{
 "cells": [
  {
   "cell_type": "markdown",
   "metadata": {},
   "source": [
    "# Welcome to the start of your adventure in Agentic AI"
   ]
  },
  {
   "cell_type": "markdown",
   "metadata": {},
   "source": [
    "<table style=\"margin: 0; text-align: left; width:100%\">\n",
    "    <tr>\n",
    "        <td style=\"width: 150px; height: 150px; vertical-align: middle;\">\n",
    "            <img src=\"../assets/stop.png\" width=\"150\" height=\"150\" style=\"display: block;\" />\n",
    "        </td>\n",
    "        <td>\n",
    "            <h2 style=\"color:#ff7800;\">Are you ready for action??</h2>\n",
    "            <span style=\"color:#ff7800;\">Have you completed all the setup steps in the <a href=\"../setup/\">setup</a> folder?<br/>\n",
    "            Have you read the <a href=\"../README.md\">README</a>? Many common questions are answered here!<br/>\n",
    "            Have you checked out the guides in the <a href=\"../guides/01_intro.ipynb\">guides</a> folder?<br/>\n",
    "            Well in that case, you're ready!!\n",
    "            </span>\n",
    "        </td>\n",
    "    </tr>\n",
    "</table>"
   ]
  },
  {
   "cell_type": "markdown",
   "metadata": {},
   "source": [
    "<table style=\"margin: 0; text-align: left; width:100%\">\n",
    "    <tr>\n",
    "        <td style=\"width: 150px; height: 150px; vertical-align: middle;\">\n",
    "            <img src=\"../assets/tools.png\" width=\"150\" height=\"150\" style=\"display: block;\" />\n",
    "        </td>\n",
    "        <td>\n",
    "            <h2 style=\"color:#00bfff;\">This code is a live resource - keep an eye out for my updates</h2>\n",
    "            <span style=\"color:#00bfff;\">I push updates regularly. As people ask questions or have problems, I add more examples and improve explanations. As a result, the code below might not be identical to the videos, as I've added more steps and better comments. Consider this like an interactive book that accompanies the lectures.<br/><br/>\n",
    "            I try to send emails regularly with important updates related to the course. You can find this in the 'Announcements' section of Udemy in the left sidebar. You can also choose to receive my emails via your Notification Settings in Udemy. I'm respectful of your inbox and always try to add value with my emails!\n",
    "            </span>\n",
    "        </td>\n",
    "    </tr>\n",
    "</table>"
   ]
  },
  {
   "cell_type": "markdown",
   "metadata": {},
   "source": [
    "### And please do remember to contact me if I can help\n",
    "\n",
    "And I love to connect: https://www.linkedin.com/in/eddonner/\n",
    "\n",
    "\n",
    "### New to Notebooks like this one? Head over to the guides folder!\n",
    "\n",
    "Just to check you've already added the Python and Jupyter extensions to Cursor, if not already installed:\n",
    "- Open extensions (View >> extensions)\n",
    "- Search for python, and when the results show, click on the ms-python one, and Install it if not already installed\n",
    "- Search for jupyter, and when the results show, click on the Microsoft one, and Install it if not already installed  \n",
    "Then View >> Explorer to bring back the File Explorer.\n",
    "\n",
    "And then:\n",
    "1. Click where it says \"Select Kernel\" near the top right, and select the option called `.venv (Python 3.12.9)` or similar, which should be the first choice or the most prominent choice. You may need to choose \"Python Environments\" first.\n",
    "2. Click in each \"cell\" below, starting with the cell immediately below this text, and press Shift+Enter to run\n",
    "3. Enjoy!\n",
    "\n",
    "After you click \"Select Kernel\", if there is no option like `.venv (Python 3.12.9)` then please do the following:  \n",
    "1. On Mac: From the Cursor menu, choose Settings >> VS Code Settings (NOTE: be sure to select `VSCode Settings` not `Cursor Settings`);  \n",
    "On Windows PC: From the File menu, choose Preferences >> VS Code Settings(NOTE: be sure to select `VSCode Settings` not `Cursor Settings`)  \n",
    "2. In the Settings search bar, type \"venv\"  \n",
    "3. In the field \"Path to folder with a list of Virtual Environments\" put the path to the project root, like C:\\Users\\username\\projects\\agents (on a Windows PC) or /Users/username/projects/agents (on Mac or Linux).  \n",
    "And then try again.\n",
    "\n",
    "Having problems with missing Python versions in that list? Have you ever used Anaconda before? It might be interferring. Quit Cursor, bring up a new command line, and make sure that your Anaconda environment is deactivated:    \n",
    "`conda deactivate`  \n",
    "And if you still have any problems with conda and python versions, it's possible that you will need to run this too:  \n",
    "`conda config --set auto_activate_base false`  \n",
    "and then from within the Agents directory, you should be able to run `uv python list` and see the Python 3.12 version."
   ]
  },
  {
   "cell_type": "code",
   "execution_count": 1,
   "metadata": {},
   "outputs": [],
   "source": [
    "# First let's do an import. If you get an Import Error, double check that your Kernel is correct..\n",
    "\n",
    "from dotenv import load_dotenv\n"
   ]
  },
  {
   "cell_type": "code",
   "execution_count": 2,
   "metadata": {},
   "outputs": [
    {
     "data": {
      "text/plain": [
       "True"
      ]
     },
     "execution_count": 2,
     "metadata": {},
     "output_type": "execute_result"
    }
   ],
   "source": [
    "# Next it's time to load the API keys into environment variables\n",
    "# If this returns false, see the next cell!\n",
    "\n",
    "load_dotenv(override=True)"
   ]
  },
  {
   "cell_type": "markdown",
   "metadata": {},
   "source": [
    "### Wait, did that just output `False`??\n",
    "\n",
    "If so, the most common reason is that you didn't save your `.env` file after adding the key! Be sure to have saved.\n",
    "\n",
    "Also, make sure the `.env` file is named precisely `.env` and is in the project root directory (`agents`)\n",
    "\n",
    "By the way, your `.env` file should have a stop symbol next to it in Cursor on the left, and that's actually a good thing: that's Cursor saying to you, \"hey, I realize this is a file filled with secret information, and I'm not going to send it to an external AI to suggest changes, because your keys should not be shown to anyone else.\""
   ]
  },
  {
   "cell_type": "markdown",
   "metadata": {},
   "source": [
    "<table style=\"margin: 0; text-align: left; width:100%\">\n",
    "    <tr>\n",
    "        <td style=\"width: 150px; height: 150px; vertical-align: middle;\">\n",
    "            <img src=\"../assets/stop.png\" width=\"150\" height=\"150\" style=\"display: block;\" />\n",
    "        </td>\n",
    "        <td>\n",
    "            <h2 style=\"color:#ff7800;\">Final reminders</h2>\n",
    "            <span style=\"color:#ff7800;\">1. If you're not confident about Environment Variables or Web Endpoints / APIs, please read Topics 3 and 5 in this <a href=\"../guides/04_technical_foundations.ipynb\">technical foundations guide</a>.<br/>\n",
    "            2. If you want to use AIs other than OpenAI, like Gemini, DeepSeek or Ollama (free), please see the first section in this <a href=\"../guides/09_ai_apis_and_ollama.ipynb\">AI APIs guide</a>.<br/>\n",
    "            3. If you ever get a Name Error in Python, you can always fix it immediately; see the last section of this <a href=\"../guides/06_python_foundations.ipynb\">Python Foundations guide</a> and follow both tutorials and exercises.<br/>\n",
    "            </span>\n",
    "        </td>\n",
    "    </tr>\n",
    "</table>"
   ]
  },
  {
   "cell_type": "code",
   "execution_count": 3,
   "metadata": {},
   "outputs": [
    {
     "name": "stdout",
     "output_type": "stream",
     "text": [
      "OpenAI API Key exists and begins sk-proj-\n"
     ]
    }
   ],
   "source": [
    "# Check the key - if you're not using OpenAI, check whichever key you're using! Ollama doesn't need a key.\n",
    "\n",
    "import os\n",
    "openai_api_key = os.getenv('OPENAI_API_KEY')\n",
    "\n",
    "if openai_api_key:\n",
    "    print(f\"OpenAI API Key exists and begins {openai_api_key[:8]}\")\n",
    "else:\n",
    "    print(\"OpenAI API Key not set - please head to the troubleshooting guide in the setup folder\")\n",
    "    \n"
   ]
  },
  {
   "cell_type": "code",
   "execution_count": 4,
   "metadata": {},
   "outputs": [],
   "source": [
    "# And now - the all important import statement\n",
    "# If you get an import error - head over to troubleshooting in the Setup folder\n",
    "# Even for other LLM providers like Gemini, you still use this OpenAI import - see Guide 9 for why\n",
    "\n",
    "from openai import OpenAI"
   ]
  },
  {
   "cell_type": "code",
   "execution_count": 5,
   "metadata": {},
   "outputs": [],
   "source": [
    "# And now we'll create an instance of the OpenAI class\n",
    "# If you're not sure what it means to create an instance of a class - head over to the guides folder (guide 6)!\n",
    "# If you get a NameError - head over to the guides folder (guide 6)to learn about NameErrors - always instantly fixable\n",
    "# If you're not using OpenAI, you just need to slightly modify this - precise instructions are in the AI APIs guide (guide 9)\n",
    "\n",
    "openai = OpenAI()"
   ]
  },
  {
   "cell_type": "code",
   "execution_count": 6,
   "metadata": {},
   "outputs": [],
   "source": [
    "# Create a list of messages in the familiar OpenAI format\n",
    "\n",
    "messages = [{\"role\": \"user\", \"content\": \"What is 2+2?\"}]"
   ]
  },
  {
   "cell_type": "code",
   "execution_count": 7,
   "metadata": {},
   "outputs": [
    {
     "name": "stdout",
     "output_type": "stream",
     "text": [
      "2 + 2 equals 4.\n"
     ]
    }
   ],
   "source": [
    "# And now call it! Any problems, head to the troubleshooting guide\n",
    "# This uses GPT 4.1 nano, the incredibly cheap model\n",
    "# The APIs guide (guide 9) has exact instructions for using even cheaper or free alternatives to OpenAI\n",
    "# If you get a NameError, head to the guides folder (guide 6) to learn about NameErrors - always instantly fixable\n",
    "\n",
    "response = openai.chat.completions.create(\n",
    "    model=\"gpt-4.1-nano\",\n",
    "    messages=messages\n",
    ")\n",
    "\n",
    "print(response.choices[0].message.content)\n"
   ]
  },
  {
   "cell_type": "code",
   "execution_count": 8,
   "metadata": {},
   "outputs": [],
   "source": [
    "# And now - let's ask for a question:\n",
    "\n",
    "question = \"Please propose a hard, challenging question to assess someone's IQ. Respond only with the question.\"\n",
    "messages = [{\"role\": \"user\", \"content\": question}]\n"
   ]
  },
  {
   "cell_type": "code",
   "execution_count": 9,
   "metadata": {},
   "outputs": [
    {
     "name": "stdout",
     "output_type": "stream",
     "text": [
      "If 5 machines take 5 minutes to make 5 widgets, how long would 100 machines take to make 100 widgets?\n"
     ]
    }
   ],
   "source": [
    "# ask it - this uses GPT 4.1 mini, still cheap but more powerful than nano\n",
    "\n",
    "response = openai.chat.completions.create(\n",
    "    model=\"gpt-4.1-mini\",\n",
    "    messages=messages\n",
    ")\n",
    "\n",
    "question = response.choices[0].message.content\n",
    "\n",
    "print(question)\n"
   ]
  },
  {
   "cell_type": "code",
   "execution_count": 10,
   "metadata": {},
   "outputs": [],
   "source": [
    "# form a new messages list\n",
    "messages = [{\"role\": \"user\", \"content\": question}]\n"
   ]
  },
  {
   "cell_type": "code",
   "execution_count": 11,
   "metadata": {},
   "outputs": [
    {
     "name": "stdout",
     "output_type": "stream",
     "text": [
      "Let's analyze the problem step-by-step:\n",
      "\n",
      "- **Given:**  \n",
      "5 machines take 5 minutes to make 5 widgets.\n",
      "\n",
      "- From this information, we can find the rate per machine:\n",
      "  - 5 machines → 5 widgets in 5 minutes  \n",
      "  - This means 1 machine makes 1 widget in 5 minutes.\n",
      "\n",
      "- Now, we want to find out how long it takes for 100 machines to make 100 widgets.\n",
      "\n",
      "Since each machine makes 1 widget in 5 minutes, and we have 100 machines working simultaneously:\n",
      "\n",
      "- Each machine can make 1 widget in 5 minutes.\n",
      "- So, 100 machines can make 100 widgets in the same 5 minutes.\n",
      "\n",
      "**Answer:**\n",
      "\n",
      "\\[\n",
      "\\boxed{5 \\text{ minutes}}\n",
      "\\]\n"
     ]
    }
   ],
   "source": [
    "# Ask it again\n",
    "\n",
    "response = openai.chat.completions.create(\n",
    "    model=\"gpt-4.1-mini\",\n",
    "    messages=messages\n",
    ")\n",
    "\n",
    "answer = response.choices[0].message.content\n",
    "print(answer)\n"
   ]
  },
  {
   "cell_type": "code",
   "execution_count": 14,
   "metadata": {},
   "outputs": [
    {
     "data": {
      "text/markdown": [
       "Let's analyze the problem step-by-step:\n",
       "\n",
       "- **Given:**  \n",
       "5 machines take 5 minutes to make 5 widgets.\n",
       "\n",
       "- From this information, we can find the rate per machine:\n",
       "  - 5 machines → 5 widgets in 5 minutes  \n",
       "  - This means 1 machine makes 1 widget in 5 minutes.\n",
       "\n",
       "- Now, we want to find out how long it takes for 100 machines to make 100 widgets.\n",
       "\n",
       "Since each machine makes 1 widget in 5 minutes, and we have 100 machines working simultaneously:\n",
       "\n",
       "- Each machine can make 1 widget in 5 minutes.\n",
       "- So, 100 machines can make 100 widgets in the same 5 minutes.\n",
       "\n",
       "**Answer:**\n",
       "\n",
       "$\n",
       "\\boxed{5 \\text{ minutes}}\n",
       "$"
      ],
      "text/plain": [
       "<IPython.core.display.Markdown object>"
      ]
     },
     "metadata": {},
     "output_type": "display_data"
    }
   ],
   "source": [
    "from IPython.display import Markdown, display\n",
    "\n",
    "# Latex preprocessing \n",
    "fixed_answer = answer.replace(r'\\[', '$').replace(r'\\]', '$')\n",
    "\n",
    "display(Markdown(fixed_answer))\n",
    "\n"
   ]
  },
  {
   "cell_type": "markdown",
   "metadata": {},
   "source": [
    "# Congratulations!\n",
    "\n",
    "That was a small, simple step in the direction of Agentic AI, with your new environment!\n",
    "\n",
    "Next time things get more interesting..."
   ]
  },
  {
   "cell_type": "markdown",
   "metadata": {},
   "source": [
    "<table style=\"margin: 0; text-align: left; width:100%\">\n",
    "    <tr>\n",
    "        <td style=\"width: 150px; height: 150px; vertical-align: middle;\">\n",
    "            <img src=\"../assets/exercise.png\" width=\"150\" height=\"150\" style=\"display: block;\" />\n",
    "        </td>\n",
    "        <td>\n",
    "            <h2 style=\"color:#ff7800;\">Exercise</h2>\n",
    "            <span style=\"color:#ff7800;\">Now try this commercial application:<br/>\n",
    "            First ask the LLM to pick a business area that might be worth exploring for an Agentic AI opportunity.<br/>\n",
    "            Then ask the LLM to present a pain-point in that industry - something challenging that might be ripe for an Agentic solution.<br/>\n",
    "            Finally have 3 third LLM call propose the Agentic AI solution. <br/>\n",
    "            We will cover this at up-coming labs, so don't worry if you're unsure.. just give it a try!\n",
    "            </span>\n",
    "        </td>\n",
    "    </tr>\n",
    "</table>"
   ]
  },
  {
   "cell_type": "code",
   "execution_count": 15,
   "metadata": {},
   "outputs": [
    {
     "name": "stdout",
     "output_type": "stream",
     "text": [
      "### Key Pain Point in Supply Chain and Logistics Management:  \n",
      "**Managing and Responding to Real-Time Disruptions Across a Complex, Multi-Stakeholder Network**\n",
      "\n",
      "#### Why Is This Pain Point Significant?  \n",
      "Supply chains are inherently fragile due to their complexity and global scale. Disruptions — such as supplier delays, transportation bottlenecks, factory shutdowns, natural disasters, or sudden demand spikes — propagate quickly through the network, causing cascading failures and costly delays. Companies struggle with:  \n",
      "- **Lack of real-time visibility:** Data silos across suppliers, transporters, warehouses, and retailers lead to delayed or incomplete information.  \n",
      "- **Slow human decision cycles:** Manual monitoring and intervention can’t keep up with rapidly unfolding events or simultaneous multi-node issues.  \n",
      "- **Inflexible plans:** Fixed schedules and rigid contracts often can’t adapt to changing conditions quickly enough.  \n",
      "- **Coordination challenges:** Conflicting priorities among partners (cost vs speed vs service levels) hinder unified responses.  \n",
      "\n",
      "#### Why This Is Ripe for Agentic AI:  \n",
      "Agentic AI can serve as an autonomous control layer that continuously integrates multi-source data, predicts emerging disruptions, and executes coordinated mitigation strategies in real time. These AI agents can:  \n",
      "- **Continuously monitor and analyze** global supply chain status, using live data streams and external signals (e.g., weather, political news).  \n",
      "- **Proactively foresee risks** before they impact operations, allowing early strategic adjustments.  \n",
      "- **Negotiate and re-route resources autonomously**—for example, switching suppliers, adjusting inventory allocations, or deploying alternate shipping routes—without waiting for human approval.  \n",
      "- **Balance trade-offs** dynamically across cost, speed, and sustainability objectives through multi-agent coordination.  \n",
      "\n",
      "By addressing the pain of dynamic disruption management and response through autonomous, intelligent agents, companies can dramatically reduce downtime, lower costs, and improve service reliability in complex supply chains. This represents a compelling agentic AI opportunity with clear, high-value impact.\n"
     ]
    },
    {
     "data": {
      "text/markdown": [
       "Certainly! Below is a detailed proposal for an **Agentic AI solution** to address the pain point of managing and responding to real-time disruptions across a complex, multi-stakeholder supply chain network.\n",
       "\n",
       "---\n",
       "\n",
       "### Agentic AI Solution Proposal: **SupplyChainSentinel – Autonomous Disruption Management Agent**\n",
       "\n",
       "---\n",
       "\n",
       "### 1. **Solution Overview**\n",
       "\n",
       "**SupplyChainSentinel** is a multi-agent AI platform designed to autonomously monitor, predict, and mitigate disruptions in real-time across complex global supply chains. Acting as a distributed control layer, it integrates diverse data sources, coordinates stakeholder actions, and dynamically adapts operational plans without requiring constant human intervention.\n",
       "\n",
       "---\n",
       "\n",
       "### 2. **Core Capabilities**\n",
       "\n",
       "#### a. Real-Time Multi-Source Data Integration\n",
       "- Continuously ingest live data from:\n",
       "  - Internal systems: ERP, warehouse management, transport management, supplier portals.\n",
       "  - External feeds: weather forecasts, geopolitical news, port/transport status, social media signals.\n",
       "  - IoT sensors from shipments, facilities, and vehicles.\n",
       "- Normalize and fuse heterogeneous data to create a unified, real-time situational picture of the supply chain network.\n",
       "\n",
       "#### b. Predictive Disruption Detection\n",
       "- Use machine learning models trained on historical disruption patterns combined with real-time signals to:\n",
       "  - Identify early indicators of supplier delays, transport bottlenecks, and capacity issues.\n",
       "  - Forecast ripple effects across downstream nodes.\n",
       "- Continuously update risk assessments as new information arrives.\n",
       "\n",
       "#### c. Autonomous Decision Making & Action\n",
       "- Deploy specialized AI agents for different functions:\n",
       "  - **Negotiation Agents:** autonomously interact with suppliers, carriers, and warehouses to renegotiate delivery times, prioritize shipments, or arrange alternatives.\n",
       "  - **Routing Agents:** dynamically reroute shipments based on predicted delays or cost/speed trade-offs.\n",
       "  - **Inventory Allocation Agents:** rebalance stock levels across warehouses or stores to mitigate shortages.\n",
       "- Use reinforcement learning to optimize multi-objective trade-offs (cost, speed, carbon footprint).\n",
       "\n",
       "#### d. Dynamic Multi-Agent Coordination\n",
       "- Agents operate semi-independently but communicate to ensure aligned objectives.\n",
       "- Employ consensus algorithms and game-theoretic techniques to balance conflicting partner priorities.\n",
       "- Facilitate trust and transparency by logging negotiation and decision rationale.\n",
       "\n",
       "#### e. Human-in-the-Loop Oversight & Intervention\n",
       "- Provide intuitive dashboards highlighting:\n",
       "  - Predicted disruptions.\n",
       "  - Proposed agent actions and rationale.\n",
       "- Allow supply chain managers to set policies, constraints, and intervene in exceptions.\n",
       "\n",
       "---\n",
       "\n",
       "### 3. **Solution Architecture**\n",
       "\n",
       "```\n",
       "              +---------------------------+\n",
       "              |   External Data Sources   |  \n",
       "              | Weather, News, IoT, etc. |  \n",
       "              +------------+--------------+\n",
       "                           |\n",
       "             +-------------v--------------+\n",
       "             |   Data Fusion & Analytics  |\n",
       "             | Real-Time Supply Chain Map |\n",
       "             +-------------+--------------+\n",
       "                           |\n",
       "           +---------------+----------------+\n",
       "           |               |                |\n",
       "+----------v-------+ +-----v----------+ +---v------------+\n",
       "| Predictive Model | | Negotiation    | | Routing Agent  |\n",
       "| Disruption Risk  | | Agent          | |                |\n",
       "+------------------+ +----------------+ +----------------+\n",
       "           \\                |                /\n",
       "            \\               |               /\n",
       "             +--------------v--------------+\n",
       "             |   Multi-Agent Coordinator   |\n",
       "             |  Conflict Resolution &      |\n",
       "             |  Trade-Off Optimization     |\n",
       "             +--------------+--------------+\n",
       "                            |\n",
       "                  +---------v----------+\n",
       "                  | Human Oversight UI |\n",
       "                  +--------------------+\n",
       "```\n",
       "\n",
       "---\n",
       "\n",
       "### 4. **Key Benefits**\n",
       "\n",
       "| Problem Addressed                         | How Agentic AI Helps                                       | Business Impact                           |\n",
       "|-----------------------------------------|-----------------------------------------------------------|------------------------------------------|\n",
       "| Lack of real-time visibility             | Unified live situational awareness from multi-source data | Faster reaction times, reduced blind spots |\n",
       "| Slow human decision cycles               | Autonomous negotiation and rerouting without human delays | Reduced downtime, better throughput       |\n",
       "| Inflexible plans                         | Dynamic reallocation and adaptive routing                  | Increased supply chain agility and resilience |\n",
       "| Coordination challenges among partners   | Multi-agent alignment balancing cost, speed, sustainability | Improved partner collaboration, optimized trade-offs |\n",
       "\n",
       "---\n",
       "\n",
       "### 5. **Implementation Considerations**\n",
       "\n",
       "- **Pilot Scope:** Begin with a segmented supply chain involving key suppliers and logistics partners to validate data integration and autonomous negotiation.\n",
       "- **Data Privacy & Security:** Incorporate data encryption, role-based access, and partner consent management protocols.\n",
       "- **Governance:** Implement regulatory compliance checks and define escalation pathways for critical disruptions.\n",
       "- **Continuous Learning:** Use feedback loops from real outcomes to refine predictive models and agent decision policies.\n",
       "\n",
       "---\n",
       "\n",
       "### 6. **Conclusion**\n",
       "\n",
       "Agentic AI applied through the **SupplyChainSentinel** platform equips companies to autonomously manage supply chain disruptions with unprecedented speed and coordination. By bridging data silos, accelerating decisions, and harmonizing multi-stakeholder actions, this solution delivers a step-change in supply chain robustness and responsiveness—key to thriving in today’s volatile global markets.\n",
       "\n",
       "---\n",
       "\n",
       "If you'd like, I can also help draft specific agent workflows or system integration plans next!"
      ],
      "text/plain": [
       "<IPython.core.display.Markdown object>"
      ]
     },
     "metadata": {},
     "output_type": "display_data"
    }
   ],
   "source": [
    "# First create the messages:\n",
    "messages = [{\"role\": \"user\", \"content\": \"Pick a business area that might be worth exploring for an Agentic AI opportunity.\"}]\n",
    "\n",
    "# Then make the first call:\n",
    "response = openai.chat.completions.create(\n",
    "    model=\"gpt-4.1-mini\",\n",
    "    messages=messages\n",
    ")\n",
    "\n",
    "# Then read the business idea:\n",
    "business_idea = response.choices[0].message.content\n",
    "\n",
    "# And repeat! In the next message, include the business idea within the message\n",
    "\n",
    "# Second call - identify pain point\n",
    "messages = [{\"role\": \"user\", \"content\": f\"Present a pain-point in the {business_idea} industry - something challenging that might be ripe for an Agentic solution.\"}]\n",
    "\n",
    "response = openai.chat.completions.create(\n",
    "    model=\"gpt-4.1-mini\",\n",
    "    messages=messages\n",
    ")\n",
    "\n",
    "pain_point = response.choices[0].message.content\n",
    "print(pain_point)\n",
    "\n",
    "# Third call - propose Agentic AI solution\n",
    "messages = [{\"role\": \"user\", \"content\": f\"Propose an Agentic AI solution for this pain point: {pain_point}\"}]\n",
    "\n",
    "response = openai.chat.completions.create(\n",
    "    model=\"gpt-4.1-mini\",\n",
    "    messages=messages\n",
    ")\n",
    "\n",
    "agentic_solution = response.choices[0].message.content\n",
    "\n",
    "# Display the solution nicely\n",
    "from IPython.display import Markdown, display\n",
    "display(Markdown(agentic_solution))\n"
   ]
  },
  {
   "cell_type": "markdown",
   "metadata": {},
   "source": []
  }
 ],
 "metadata": {
  "kernelspec": {
   "display_name": ".venv",
   "language": "python",
   "name": "python3"
  },
  "language_info": {
   "codemirror_mode": {
    "name": "ipython",
    "version": 3
   },
   "file_extension": ".py",
   "mimetype": "text/x-python",
   "name": "python",
   "nbconvert_exporter": "python",
   "pygments_lexer": "ipython3",
   "version": "3.12.11"
  }
 },
 "nbformat": 4,
 "nbformat_minor": 2
}
