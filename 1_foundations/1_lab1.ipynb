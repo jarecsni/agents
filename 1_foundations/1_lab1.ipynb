{
 "cells": [
  {
   "cell_type": "markdown",
   "metadata": {},
   "source": [
    "# Welcome to the start of your adventure in Agentic AI"
   ]
  },
  {
   "cell_type": "markdown",
   "metadata": {},
   "source": [
    "<table style=\"margin: 0; text-align: left; width:100%\">\n",
    "    <tr>\n",
    "        <td style=\"width: 150px; height: 150px; vertical-align: middle;\">\n",
    "            <img src=\"../assets/stop.png\" width=\"150\" height=\"150\" style=\"display: block;\" />\n",
    "        </td>\n",
    "        <td>\n",
    "            <h2 style=\"color:#ff7800;\">Are you ready for action??</h2>\n",
    "            <span style=\"color:#ff7800;\">Have you completed all the setup steps in the <a href=\"../setup/\">setup</a> folder?<br/>\n",
    "            Have you read the <a href=\"../README.md\">README</a>? Many common questions are answered here!<br/>\n",
    "            Have you checked out the guides in the <a href=\"../guides/01_intro.ipynb\">guides</a> folder?<br/>\n",
    "            Well in that case, you're ready!!\n",
    "            </span>\n",
    "        </td>\n",
    "    </tr>\n",
    "</table>"
   ]
  },
  {
   "cell_type": "markdown",
   "metadata": {},
   "source": [
    "<table style=\"margin: 0; text-align: left; width:100%\">\n",
    "    <tr>\n",
    "        <td style=\"width: 150px; height: 150px; vertical-align: middle;\">\n",
    "            <img src=\"../assets/tools.png\" width=\"150\" height=\"150\" style=\"display: block;\" />\n",
    "        </td>\n",
    "        <td>\n",
    "            <h2 style=\"color:#00bfff;\">This code is a live resource - keep an eye out for my updates</h2>\n",
    "            <span style=\"color:#00bfff;\">I push updates regularly. As people ask questions or have problems, I add more examples and improve explanations. As a result, the code below might not be identical to the videos, as I've added more steps and better comments. Consider this like an interactive book that accompanies the lectures.<br/><br/>\n",
    "            I try to send emails regularly with important updates related to the course. You can find this in the 'Announcements' section of Udemy in the left sidebar. You can also choose to receive my emails via your Notification Settings in Udemy. I'm respectful of your inbox and always try to add value with my emails!\n",
    "            </span>\n",
    "        </td>\n",
    "    </tr>\n",
    "</table>"
   ]
  },
  {
   "cell_type": "markdown",
   "metadata": {},
   "source": [
    "### And please do remember to contact me if I can help\n",
    "\n",
    "And I love to connect: https://www.linkedin.com/in/eddonner/\n",
    "\n",
    "\n",
    "### New to Notebooks like this one? Head over to the guides folder!\n",
    "\n",
    "Just to check you've already added the Python and Jupyter extensions to Cursor, if not already installed:\n",
    "- Open extensions (View >> extensions)\n",
    "- Search for python, and when the results show, click on the ms-python one, and Install it if not already installed\n",
    "- Search for jupyter, and when the results show, click on the Microsoft one, and Install it if not already installed  \n",
    "Then View >> Explorer to bring back the File Explorer.\n",
    "\n",
    "And then:\n",
    "1. Click where it says \"Select Kernel\" near the top right, and select the option called `.venv (Python 3.12.9)` or similar, which should be the first choice or the most prominent choice. You may need to choose \"Python Environments\" first.\n",
    "2. Click in each \"cell\" below, starting with the cell immediately below this text, and press Shift+Enter to run\n",
    "3. Enjoy!\n",
    "\n",
    "After you click \"Select Kernel\", if there is no option like `.venv (Python 3.12.9)` then please do the following:  \n",
    "1. On Mac: From the Cursor menu, choose Settings >> VS Code Settings (NOTE: be sure to select `VSCode Settings` not `Cursor Settings`);  \n",
    "On Windows PC: From the File menu, choose Preferences >> VS Code Settings(NOTE: be sure to select `VSCode Settings` not `Cursor Settings`)  \n",
    "2. In the Settings search bar, type \"venv\"  \n",
    "3. In the field \"Path to folder with a list of Virtual Environments\" put the path to the project root, like C:\\Users\\username\\projects\\agents (on a Windows PC) or /Users/username/projects/agents (on Mac or Linux).  \n",
    "And then try again.\n",
    "\n",
    "Having problems with missing Python versions in that list? Have you ever used Anaconda before? It might be interferring. Quit Cursor, bring up a new command line, and make sure that your Anaconda environment is deactivated:    \n",
    "`conda deactivate`  \n",
    "And if you still have any problems with conda and python versions, it's possible that you will need to run this too:  \n",
    "`conda config --set auto_activate_base false`  \n",
    "and then from within the Agents directory, you should be able to run `uv python list` and see the Python 3.12 version."
   ]
  },
  {
   "cell_type": "code",
   "execution_count": 15,
   "metadata": {},
   "outputs": [],
   "source": [
    "# First let's do an import. If you get an Import Error, double check that your Kernel is correct..\n",
    "\n",
    "from dotenv import load_dotenv\n"
   ]
  },
  {
   "cell_type": "code",
   "execution_count": 16,
   "metadata": {},
   "outputs": [
    {
     "data": {
      "text/plain": [
       "True"
      ]
     },
     "execution_count": 16,
     "metadata": {},
     "output_type": "execute_result"
    }
   ],
   "source": [
    "# Next it's time to load the API keys into environment variables\n",
    "# If this returns false, see the next cell!\n",
    "\n",
    "load_dotenv(override=True)"
   ]
  },
  {
   "cell_type": "markdown",
   "metadata": {},
   "source": [
    "### Wait, did that just output `False`??\n",
    "\n",
    "If so, the most common reason is that you didn't save your `.env` file after adding the key! Be sure to have saved.\n",
    "\n",
    "Also, make sure the `.env` file is named precisely `.env` and is in the project root directory (`agents`)\n",
    "\n",
    "By the way, your `.env` file should have a stop symbol next to it in Cursor on the left, and that's actually a good thing: that's Cursor saying to you, \"hey, I realize this is a file filled with secret information, and I'm not going to send it to an external AI to suggest changes, because your keys should not be shown to anyone else.\""
   ]
  },
  {
   "cell_type": "markdown",
   "metadata": {},
   "source": [
    "<table style=\"margin: 0; text-align: left; width:100%\">\n",
    "    <tr>\n",
    "        <td style=\"width: 150px; height: 150px; vertical-align: middle;\">\n",
    "            <img src=\"../assets/stop.png\" width=\"150\" height=\"150\" style=\"display: block;\" />\n",
    "        </td>\n",
    "        <td>\n",
    "            <h2 style=\"color:#ff7800;\">Final reminders</h2>\n",
    "            <span style=\"color:#ff7800;\">1. If you're not confident about Environment Variables or Web Endpoints / APIs, please read Topics 3 and 5 in this <a href=\"../guides/04_technical_foundations.ipynb\">technical foundations guide</a>.<br/>\n",
    "            2. If you want to use AIs other than OpenAI, like Gemini, DeepSeek or Ollama (free), please see the first section in this <a href=\"../guides/09_ai_apis_and_ollama.ipynb\">AI APIs guide</a>.<br/>\n",
    "            3. If you ever get a Name Error in Python, you can always fix it immediately; see the last section of this <a href=\"../guides/06_python_foundations.ipynb\">Python Foundations guide</a> and follow both tutorials and exercises.<br/>\n",
    "            </span>\n",
    "        </td>\n",
    "    </tr>\n",
    "</table>"
   ]
  },
  {
   "cell_type": "code",
   "execution_count": 17,
   "metadata": {},
   "outputs": [
    {
     "name": "stdout",
     "output_type": "stream",
     "text": [
      "OpenAI API Key exists and begins sk-proj-\n"
     ]
    }
   ],
   "source": [
    "# Check the key - if you're not using OpenAI, check whichever key you're using! Ollama doesn't need a key.\n",
    "\n",
    "import os\n",
    "openai_api_key = os.getenv('OPENAI_API_KEY')\n",
    "\n",
    "if openai_api_key:\n",
    "    print(f\"OpenAI API Key exists and begins {openai_api_key[:8]}\")\n",
    "else:\n",
    "    print(\"OpenAI API Key not set - please head to the troubleshooting guide in the setup folder\")\n",
    "    \n"
   ]
  },
  {
   "cell_type": "code",
   "execution_count": 18,
   "metadata": {},
   "outputs": [],
   "source": [
    "# And now - the all important import statement\n",
    "# If you get an import error - head over to troubleshooting in the Setup folder\n",
    "# Even for other LLM providers like Gemini, you still use this OpenAI import - see Guide 9 for why\n",
    "\n",
    "from openai import OpenAI"
   ]
  },
  {
   "cell_type": "code",
   "execution_count": 19,
   "metadata": {},
   "outputs": [],
   "source": [
    "# And now we'll create an instance of the OpenAI class\n",
    "# If you're not sure what it means to create an instance of a class - head over to the guides folder (guide 6)!\n",
    "# If you get a NameError - head over to the guides folder (guide 6)to learn about NameErrors - always instantly fixable\n",
    "# If you're not using OpenAI, you just need to slightly modify this - precise instructions are in the AI APIs guide (guide 9)\n",
    "\n",
    "openai = OpenAI()"
   ]
  },
  {
   "cell_type": "code",
   "execution_count": 20,
   "metadata": {},
   "outputs": [],
   "source": [
    "# Create a list of messages in the familiar OpenAI format\n",
    "\n",
    "messages = [{\"role\": \"user\", \"content\": \"What is 2+2?\"}]"
   ]
  },
  {
   "cell_type": "code",
   "execution_count": 21,
   "metadata": {},
   "outputs": [
    {
     "name": "stdout",
     "output_type": "stream",
     "text": [
      "2 + 2 equals 4.\n"
     ]
    }
   ],
   "source": [
    "# And now call it! Any problems, head to the troubleshooting guide\n",
    "# This uses GPT 4.1 nano, the incredibly cheap model\n",
    "# The APIs guide (guide 9) has exact instructions for using even cheaper or free alternatives to OpenAI\n",
    "# If you get a NameError, head to the guides folder (guide 6) to learn about NameErrors - always instantly fixable\n",
    "\n",
    "response = openai.chat.completions.create(\n",
    "    model=\"gpt-4.1-nano\",\n",
    "    messages=messages\n",
    ")\n",
    "\n",
    "print(response.choices[0].message.content)\n"
   ]
  },
  {
   "cell_type": "code",
   "execution_count": 22,
   "metadata": {},
   "outputs": [],
   "source": [
    "# And now - let's ask for a question:\n",
    "\n",
    "question = \"Please propose a hard, challenging question to assess someone's IQ. Respond only with the question.\"\n",
    "messages = [{\"role\": \"user\", \"content\": question}]\n"
   ]
  },
  {
   "cell_type": "code",
   "execution_count": 25,
   "metadata": {},
   "outputs": [
    {
     "name": "stdout",
     "output_type": "stream",
     "text": [
      "If three typists can type three pages in three minutes, how many typists will it take to type 18 pages in six minutes?\n"
     ]
    }
   ],
   "source": [
    "# ask it - this uses GPT 4.1 mini, still cheap but more powerful than nano\n",
    "\n",
    "response = openai.chat.completions.create(\n",
    "    model=\"gpt-4.1-mini\",\n",
    "    messages=messages\n",
    ")\n",
    "\n",
    "question = response.choices[0].message.content\n",
    "\n",
    "print(question)\n"
   ]
  },
  {
   "cell_type": "code",
   "execution_count": 27,
   "metadata": {},
   "outputs": [],
   "source": [
    "# form a new messages list\n",
    "messages = [{\"role\": \"user\", \"content\": question}]\n"
   ]
  },
  {
   "cell_type": "code",
   "execution_count": 28,
   "metadata": {},
   "outputs": [
    {
     "name": "stdout",
     "output_type": "stream",
     "text": [
      "Let's analyze the problem step-by-step:\n",
      "\n",
      "**Given:**\n",
      "- 3 typists can type 3 pages in 3 minutes.\n",
      "\n",
      "**Goal:**\n",
      "- Find how many typists are needed to type 18 pages in 6 minutes.\n",
      "\n",
      "---\n",
      "\n",
      "### Step 1: Find the typing rate per typist.\n",
      "\n",
      "From the information, 3 typists type 3 pages in 3 minutes.\n",
      "\n",
      "- Total pages typed: 3 pages\n",
      "- Total typist-minutes used = 3 typists × 3 minutes = 9 typist-minutes\n",
      "\n",
      "Pages per typist-minute = total pages / total typist-minutes = 3 pages / 9 typist-minutes = 1/3 page per typist-minute.\n",
      "\n",
      "---\n",
      "\n",
      "### Step 2: Use this rate to find the number of typists needed.\n",
      "\n",
      "Want: 18 pages in 6 minutes.\n",
      "\n",
      "Let \\( x \\) be the number of typists needed.\n",
      "\n",
      "Total typist-minutes available = \\( x \\times 6 \\).\n",
      "\n",
      "Given the rate, the total pages typed by \\( x \\) typists in 6 minutes:  \n",
      "\\[\n",
      "\\frac{1}{3} \\times (x \\times 6) = \\text{pages typed}\n",
      "\\]\n",
      "\n",
      "Set this equal to 18 pages:\n",
      "\n",
      "\\[\n",
      "\\frac{1}{3} \\times 6x = 18\n",
      "\\]\n",
      "\n",
      "\\[\n",
      "2x = 18\n",
      "\\]\n",
      "\n",
      "\\[\n",
      "x = \\frac{18}{2} = 9\n",
      "\\]\n",
      "\n",
      "---\n",
      "\n",
      "### **Answer:**\n",
      "\n",
      "It will take **9 typists** to type 18 pages in 6 minutes.\n"
     ]
    }
   ],
   "source": [
    "# Ask it again\n",
    "\n",
    "response = openai.chat.completions.create(\n",
    "    model=\"gpt-4.1-mini\",\n",
    "    messages=messages\n",
    ")\n",
    "\n",
    "answer = response.choices[0].message.content\n",
    "print(answer)\n"
   ]
  },
  {
   "cell_type": "code",
   "execution_count": 29,
   "metadata": {},
   "outputs": [
    {
     "data": {
      "text/markdown": [
       "Let's analyze the problem step-by-step:\n",
       "\n",
       "**Given:**\n",
       "- 3 typists can type 3 pages in 3 minutes.\n",
       "\n",
       "**Goal:**\n",
       "- Find how many typists are needed to type 18 pages in 6 minutes.\n",
       "\n",
       "---\n",
       "\n",
       "### Step 1: Find the typing rate per typist.\n",
       "\n",
       "From the information, 3 typists type 3 pages in 3 minutes.\n",
       "\n",
       "- Total pages typed: 3 pages\n",
       "- Total typist-minutes used = 3 typists × 3 minutes = 9 typist-minutes\n",
       "\n",
       "Pages per typist-minute = total pages / total typist-minutes = 3 pages / 9 typist-minutes = 1/3 page per typist-minute.\n",
       "\n",
       "---\n",
       "\n",
       "### Step 2: Use this rate to find the number of typists needed.\n",
       "\n",
       "Want: 18 pages in 6 minutes.\n",
       "\n",
       "Let \\( x \\) be the number of typists needed.\n",
       "\n",
       "Total typist-minutes available = \\( x \\times 6 \\).\n",
       "\n",
       "Given the rate, the total pages typed by \\( x \\) typists in 6 minutes:  \n",
       "$\n",
       "\\frac{1}{3} \\times (x \\times 6) = \\text{pages typed}\n",
       "$\n",
       "\n",
       "Set this equal to 18 pages:\n",
       "\n",
       "$\n",
       "\\frac{1}{3} \\times 6x = 18\n",
       "$\n",
       "\n",
       "$\n",
       "2x = 18\n",
       "$\n",
       "\n",
       "$\n",
       "x = \\frac{18}{2} = 9\n",
       "$\n",
       "\n",
       "---\n",
       "\n",
       "### **Answer:**\n",
       "\n",
       "It will take **9 typists** to type 18 pages in 6 minutes."
      ],
      "text/plain": [
       "<IPython.core.display.Markdown object>"
      ]
     },
     "metadata": {},
     "output_type": "display_data"
    }
   ],
   "source": [
    "from IPython.display import Markdown, display\n",
    "\n",
    "# Latex preprocessing \n",
    "fixed_answer = answer.replace(r'\\[', '$').replace(r'\\]', '$')\n",
    "\n",
    "display(Markdown(fixed_answer))\n",
    "\n"
   ]
  },
  {
   "cell_type": "markdown",
   "metadata": {},
   "source": [
    "# Congratulations!\n",
    "\n",
    "That was a small, simple step in the direction of Agentic AI, with your new environment!\n",
    "\n",
    "Next time things get more interesting..."
   ]
  },
  {
   "cell_type": "markdown",
   "metadata": {},
   "source": [
    "<table style=\"margin: 0; text-align: left; width:100%\">\n",
    "    <tr>\n",
    "        <td style=\"width: 150px; height: 150px; vertical-align: middle;\">\n",
    "            <img src=\"../assets/exercise.png\" width=\"150\" height=\"150\" style=\"display: block;\" />\n",
    "        </td>\n",
    "        <td>\n",
    "            <h2 style=\"color:#ff7800;\">Exercise</h2>\n",
    "            <span style=\"color:#ff7800;\">Now try this commercial application:<br/>\n",
    "            First ask the LLM to pick a business area that might be worth exploring for an Agentic AI opportunity.<br/>\n",
    "            Then ask the LLM to present a pain-point in that industry - something challenging that might be ripe for an Agentic solution.<br/>\n",
    "            Finally have 3 third LLM call propose the Agentic AI solution. <br/>\n",
    "            We will cover this at up-coming labs, so don't worry if you're unsure.. just give it a try!\n",
    "            </span>\n",
    "        </td>\n",
    "    </tr>\n",
    "</table>"
   ]
  },
  {
   "cell_type": "code",
   "execution_count": 30,
   "metadata": {},
   "outputs": [
    {
     "name": "stdout",
     "output_type": "stream",
     "text": [
      "A significant pain point in personalized healthcare management is **the inefficient and error-prone management of complex medication regimens for patients with multiple chronic conditions**.\n",
      "\n",
      "### Why this is a crucial pain point:\n",
      "\n",
      "- **Polypharmacy complexity**: Patients with multiple chronic illnesses often take numerous medications with different dosages, timings, and dietary restrictions. Manually managing these regimens leads to frequent mistakes such as missed doses, incorrect timing, or harmful drug interactions.\n",
      "- **Dynamic treatment changes**: Medication plans often change based on lab results, symptoms, or new diagnoses, requiring constant updates to schedules and patient instructions.\n",
      "- **Poor patient adherence**: Confusion and cognitive overload contribute to non-adherence, which can cause worsening of conditions, hospitalizations, or adverse drug events.\n",
      "- **Fragmented communication**: Coordination between multiple doctors, pharmacies, and caregivers is often lacking, resulting in inconsistent information and delayed adjustments to medication plans.\n",
      "\n",
      "This creates a high-stakes environment demanding continuous, context-aware, and proactive management that current systems or manual methods struggle to deliver effectively.\n",
      "\n",
      "### How an Agentic AI can help:\n",
      "\n",
      "- Autonomously integrate and reconcile data from EHRs, pharmacies, and patient inputs.\n",
      "- Dynamically adjust medication schedules in real-time based on physiological data, lab results, and appointment feedback.\n",
      "- Proactively detect potential drug conflicts or adherence lapses, and interact with patients or providers to mitigate risks.\n",
      "- Serve as an intelligent liaison between care teams, ensuring consistent and timely communication of changes.\n",
      "\n",
      "By addressing this pain point, Agentic AI can dramatically improve medication safety, adherence, and overall chronic disease outcomes, illustrating the transformative potential in personalized healthcare management.\n"
     ]
    },
    {
     "data": {
      "text/markdown": [
       "Certainly! Here is a detailed proposal for an **Agentic AI solution** designed to tackle the complex challenges of medication management for patients with multiple chronic conditions:\n",
       "\n",
       "---\n",
       "\n",
       "## Agentic AI Solution: **MedicaCare Navigator**\n",
       "\n",
       "### Overview:\n",
       "**MedicaCare Navigator** is an autonomous, intelligent agent designed to deliver continuous, personalized, and context-aware medication management for polypharmacy patients. It acts as a centralized digital pharmacist and care coordinator, seamlessly integrating heterogeneous healthcare data sources and dynamically optimizing medication regimens to improve safety, adherence, and clinical outcomes.\n",
       "\n",
       "---\n",
       "\n",
       "### Key Functional Capabilities:\n",
       "\n",
       "1. **Data Integration & Reconciliation**\n",
       "   - **Multi-source aggregation:** Automatically collect and harmonize data from Electronic Health Records (EHR), pharmacy dispensing systems, lab results, wearable sensors, and patient self-reports.\n",
       "   - **Conflict resolution:** Detect discrepancies and redundancies across physician prescriptions, previous medication histories, and real-time vitals.\n",
       "   - **Unified medication profile:** Maintain a single, up-to-date, and comprehensive medication list that factors in dosage, timing, formulation, and patient-specific constraints.\n",
       "\n",
       "2. **Dynamic Medication Scheduling & Adjustment**\n",
       "   - **Context-aware scheduling:** Generate optimized medication reminders accounting for drug-drug and drug-food interactions, patient daily routines, and physiological state.\n",
       "   - **Real-time modifications:** Adapt medication plans based on new lab values, symptom reports, or clinical notes—for example, adjusting dosages to stabilize blood pressure or glucose.\n",
       "   - **Predictive adaptation:** Use machine learning models to anticipate possible adverse reactions or ineffective treatments before symptoms manifest.\n",
       "\n",
       "3. **Proactive Risk Detection & Intervention**\n",
       "   - **Interaction and contraindication alerts:** Continuously screen for potentially harmful drug interactions or contraindications, alerting providers and patients promptly.\n",
       "   - **Adherence monitoring:** Leverage smart pillboxes, mobile apps, or biometric sensors to detect missed doses or irregular intake patterns.\n",
       "   - **Automated patient engagement:** Intervene with personalized educational messages, motivational nudges, or realtime Q&A chatbots to enhance understanding and resolve confusion.\n",
       "\n",
       "4. **Intelligent Coordination & Communication**\n",
       "   - **Multilateral liaison:** Facilitate secure, transparent communication between multiple prescribers, pharmacists, caregivers, and patients by automatically sharing medication updates and alerts.\n",
       "   - **Audit trail and compliance:** Maintain detailed logs of medication changes, patient responses, and communications to support clinical audits and regulatory compliance.\n",
       "   - **Decision support for clinicians:** Provide evidence-backed recommendations and rationale for medication plan adjustments to support informed clinical decisions.\n",
       "\n",
       "---\n",
       "\n",
       "### Operational Workflow:\n",
       "\n",
       "1. **Onboarding & Baseline Setup**\n",
       "   - Patient data aggregated from EHR, pharmacy, and patient input.\n",
       "   - Initial medication reconciliation performed with human-in-the-loop oversight.\n",
       "   - Personalized medication schedule generated with input from clinicians.\n",
       "\n",
       "2. **Continuous Monitoring & Feedback Loop**\n",
       "   - Physiological data (e.g., heart rate, glucose) streamed realtime for condition monitoring.\n",
       "   - Patient adherence and symptom tracking through apps and connected devices.\n",
       "   - Agent detects anomalies or deviations and triggers alerts or schedule adjustments.\n",
       "\n",
       "3. **Proactive Interaction & Escalation**\n",
       "   - Patient receives tailored reminders and educational content.\n",
       "   - Agent communicates medication conflicts or urgent risks to care team immediately.\n",
       "   - Where needed, prompts human clinician intervention or pharmacy consultation.\n",
       "\n",
       "4. **Outcome Evaluation & Learning**\n",
       "   - Medication efficacy and patient adherence data continuously analyzed.\n",
       "   - Models updated to refine dosing algorithms and risk predictions.\n",
       "   - Reports generated for providers to assess and optimize care plans.\n",
       "\n",
       "---\n",
       "\n",
       "### Benefits & Impact:\n",
       "\n",
       "- **Reduced Medication Errors:** Automated cross-checks and real-time updates minimize risks of missed doses, incorrect timing, and drug interactions.\n",
       "- **Improved Adherence:** Personalized support and clear communication address cognitive burdens, fostering consistent medication intake.\n",
       "- **Enhanced Coordination:** A unified platform reduces fragmentation by synchronizing stakeholders with accurate, timely information.\n",
       "- **Dynamic & Adaptive Care:** Continuous learning and adjustment enable treatment optimization personalized to evolving patient states.\n",
       "- **Lower Healthcare Utilization:** Improved medication management prevents complications, reducing hospitalizations and emergency visits.\n",
       "\n",
       "---\n",
       "\n",
       "### Example Use Case:\n",
       "\n",
       "*Mrs. Smith, a 72-year-old with diabetes, hypertension, and heart failure, takes 10 different medications. MedicaCare Navigator consolidates her prescriptions, monitors her blood glucose and blood pressure via connected devices, and notices a pattern of missed evening doses due to confusion over overlapping instructions. The AI agent automatically clarifies the timing, sends simplified reminders, alerts her cardiologist about slight potassium level fluctuations, and suggests a dosage tweak. Mrs. Smith feels supported and adheres better, reducing her risk of hospitalization.*\n",
       "\n",
       "---\n",
       "\n",
       "### Technology Stack & Considerations:\n",
       "\n",
       "- **AI/ML Models:** Natural language processing (NLP) for free-text notes; predictive analytics for risk modeling.\n",
       "- **Data Standards:** FHIR APIs for EHR integration; HL7 messaging for inter-system communication.\n",
       "- **Security & Privacy:** HIPAA-compliant data handling; end-to-end encryption.\n",
       "- **User Interfaces:** Patient mobile app; clinician web dashboard; caregiver portals.\n",
       "- **Human Oversight:** Clinician-in-the-loop workflows for critical decisions and approvals.\n",
       "\n",
       "---\n",
       "\n",
       "## Conclusion\n",
       "\n",
       "By autonomously managing the complexities of polypharmacy with real-time insights, personalized scheduling, and proactive communication, **MedicaCare Navigator** exemplifies the transformative potential of Agentic AI in personalized healthcare management. It can substantially reduce medication errors and improve chronic disease outcomes, addressing a crucial unmet need in today’s fragmented healthcare ecosystem.\n",
       "\n",
       "---\n",
       "\n",
       "If you want, I can also draft user journey diagrams or technical architecture details!"
      ],
      "text/plain": [
       "<IPython.core.display.Markdown object>"
      ]
     },
     "metadata": {},
     "output_type": "display_data"
    }
   ],
   "source": [
    "# First create the messages:\n",
    "messages = [{\"role\": \"user\", \"content\": \"Pick a business area that might be worth exploring for an Agentic AI opportunity.\"}]\n",
    "\n",
    "# Then make the first call:\n",
    "response = openai.chat.completions.create(\n",
    "    model=\"gpt-4.1-mini\",\n",
    "    messages=messages\n",
    ")\n",
    "\n",
    "# Then read the business idea:\n",
    "business_idea = response.choices[0].message.content\n",
    "\n",
    "# And repeat! In the next message, include the business idea within the message\n",
    "\n",
    "# Second call - identify pain point\n",
    "messages = [{\"role\": \"user\", \"content\": f\"Present a pain-point in the {business_idea} industry - something challenging that might be ripe for an Agentic solution.\"}]\n",
    "\n",
    "response = openai.chat.completions.create(\n",
    "    model=\"gpt-4.1-mini\",\n",
    "    messages=messages\n",
    ")\n",
    "\n",
    "pain_point = response.choices[0].message.content\n",
    "print(pain_point)\n",
    "\n",
    "# Third call - propose Agentic AI solution\n",
    "messages = [{\"role\": \"user\", \"content\": f\"Propose an Agentic AI solution for this pain point: {pain_point}\"}]\n",
    "\n",
    "response = openai.chat.completions.create(\n",
    "    model=\"gpt-4.1-mini\",\n",
    "    messages=messages\n",
    ")\n",
    "\n",
    "agentic_solution = response.choices[0].message.content\n",
    "\n",
    "# Display the solution nicely\n",
    "from IPython.display import Markdown, display\n",
    "display(Markdown(agentic_solution))\n"
   ]
  },
  {
   "cell_type": "markdown",
   "metadata": {},
   "source": []
  }
 ],
 "metadata": {
  "kernelspec": {
   "display_name": ".venv",
   "language": "python",
   "name": "python3"
  },
  "language_info": {
   "codemirror_mode": {
    "name": "ipython",
    "version": 3
   },
   "file_extension": ".py",
   "mimetype": "text/x-python",
   "name": "python",
   "nbconvert_exporter": "python",
   "pygments_lexer": "ipython3",
   "version": "3.12.11"
  }
 },
 "nbformat": 4,
 "nbformat_minor": 2
}
