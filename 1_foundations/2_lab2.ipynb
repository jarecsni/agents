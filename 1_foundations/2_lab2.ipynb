{
 "cells": [
  {
   "cell_type": "markdown",
   "metadata": {},
   "source": [
    "## Welcome to the Second Lab - Week 1, Day 3\n",
    "\n",
    "Today we will work with lots of models! This is a way to get comfortable with APIs."
   ]
  },
  {
   "cell_type": "markdown",
   "metadata": {},
   "source": [
    "<table style=\"margin: 0; text-align: left; width:100%\">\n",
    "    <tr>\n",
    "        <td style=\"width: 150px; height: 150px; vertical-align: middle;\">\n",
    "            <img src=\"../assets/stop.png\" width=\"150\" height=\"150\" style=\"display: block;\" />\n",
    "        </td>\n",
    "        <td>\n",
    "            <h2 style=\"color:#ff7800;\">Important point - please read</h2>\n",
    "            <span style=\"color:#ff7800;\">The way I collaborate with you may be different to other courses you've taken. I prefer not to type code while you watch. Rather, I execute Jupyter Labs, like this, and give you an intuition for what's going on. My suggestion is that you carefully execute this yourself, <b>after</b> watching the lecture. Add print statements to understand what's going on, and then come up with your own variations.<br/><br/>If you have time, I'd love it if you submit a PR for changes in the community_contributions folder - instructions in the resources. Also, if you have a Github account, use this to showcase your variations. Not only is this essential practice, but it demonstrates your skills to others, including perhaps future clients or employers...\n",
    "            </span>\n",
    "        </td>\n",
    "    </tr>\n",
    "</table>"
   ]
  },
  {
   "cell_type": "code",
   "execution_count": 2,
   "metadata": {},
   "outputs": [],
   "source": [
    "# Start with imports - ask ChatGPT to explain any package that you don't know\n",
    "\n",
    "import os\n",
    "import json\n",
    "from dotenv import load_dotenv\n",
    "from openai import OpenAI\n",
    "from anthropic import Anthropic\n",
    "from IPython.display import Markdown, display"
   ]
  },
  {
   "cell_type": "code",
   "execution_count": 5,
   "metadata": {},
   "outputs": [
    {
     "data": {
      "text/plain": [
       "True"
      ]
     },
     "execution_count": 5,
     "metadata": {},
     "output_type": "execute_result"
    }
   ],
   "source": [
    "# Always remember to do this!\n",
    "load_dotenv(override=True)"
   ]
  },
  {
   "cell_type": "code",
   "execution_count": 6,
   "metadata": {},
   "outputs": [
    {
     "name": "stdout",
     "output_type": "stream",
     "text": [
      "OpenAI API Key exists and begins sk-proj-\n",
      "Anthropic API Key not set (and this is optional)\n",
      "Google API Key not set (and this is optional)\n",
      "DeepSeek API Key not set (and this is optional)\n",
      "Groq API Key not set (and this is optional)\n"
     ]
    }
   ],
   "source": [
    "# Print the key prefixes to help with any debugging\n",
    "\n",
    "openai_api_key = os.getenv('OPENAI_API_KEY')\n",
    "anthropic_api_key = os.getenv('ANTHROPIC_API_KEY')\n",
    "google_api_key = os.getenv('GOOGLE_API_KEY')\n",
    "deepseek_api_key = os.getenv('DEEPSEEK_API_KEY')\n",
    "groq_api_key = os.getenv('GROQ_API_KEY')\n",
    "\n",
    "if openai_api_key:\n",
    "    print(f\"OpenAI API Key exists and begins {openai_api_key[:8]}\")\n",
    "else:\n",
    "    print(\"OpenAI API Key not set\")\n",
    "    \n",
    "if anthropic_api_key:\n",
    "    print(f\"Anthropic API Key exists and begins {anthropic_api_key[:7]}\")\n",
    "else:\n",
    "    print(\"Anthropic API Key not set (and this is optional)\")\n",
    "\n",
    "if google_api_key:\n",
    "    print(f\"Google API Key exists and begins {google_api_key[:2]}\")\n",
    "else:\n",
    "    print(\"Google API Key not set (and this is optional)\")\n",
    "\n",
    "if deepseek_api_key:\n",
    "    print(f\"DeepSeek API Key exists and begins {deepseek_api_key[:3]}\")\n",
    "else:\n",
    "    print(\"DeepSeek API Key not set (and this is optional)\")\n",
    "\n",
    "if groq_api_key:\n",
    "    print(f\"Groq API Key exists and begins {groq_api_key[:4]}\")\n",
    "else:\n",
    "    print(\"Groq API Key not set (and this is optional)\")"
   ]
  },
  {
   "cell_type": "code",
   "execution_count": 7,
   "metadata": {},
   "outputs": [],
   "source": [
    "request = \"Please come up with a challenging, nuanced question that I can ask a number of LLMs to evaluate their intelligence. \"\n",
    "request += \"Answer only with the question, no explanation.\"\n",
    "messages = [{\"role\": \"user\", \"content\": request}]"
   ]
  },
  {
   "cell_type": "code",
   "execution_count": 8,
   "metadata": {},
   "outputs": [
    {
     "data": {
      "text/plain": [
       "[{'role': 'user',\n",
       "  'content': 'Please come up with a challenging, nuanced question that I can ask a number of LLMs to evaluate their intelligence. Answer only with the question, no explanation.'}]"
      ]
     },
     "execution_count": 8,
     "metadata": {},
     "output_type": "execute_result"
    }
   ],
   "source": [
    "messages"
   ]
  },
  {
   "cell_type": "code",
   "execution_count": 9,
   "metadata": {},
   "outputs": [
    {
     "name": "stdout",
     "output_type": "stream",
     "text": [
      "What are the implications of deploying artificial general intelligence in healthcare, considering ethical, economic, and societal factors, and how would you prioritize these factors in your approach?\n"
     ]
    }
   ],
   "source": [
    "openai = OpenAI()\n",
    "response = openai.chat.completions.create(\n",
    "    model=\"gpt-4o-mini\",\n",
    "    messages=messages,\n",
    ")\n",
    "question = response.choices[0].message.content\n",
    "print(question)\n"
   ]
  },
  {
   "cell_type": "code",
   "execution_count": 10,
   "metadata": {},
   "outputs": [],
   "source": [
    "competitors = []\n",
    "answers = []\n",
    "messages = [{\"role\": \"user\", \"content\": question}]"
   ]
  },
  {
   "cell_type": "code",
   "execution_count": 9,
   "metadata": {},
   "outputs": [
    {
     "data": {
      "text/markdown": [
       "Balancing the ethical implications of advanced artificial intelligence (AI) development with the need for innovation and progress is a complex challenge that requires a multi-faceted approach. Here are several key considerations that can help guide this balance:\n",
       "\n",
       "1. **Establish Ethical Guidelines and Standards**:\n",
       "   - Develop comprehensive ethical frameworks that outline acceptable practices in AI development. These guidelines should address issues such as transparency, accountability, fairness, and privacy.\n",
       "   - Engage diverse stakeholders, including ethicists, technologists, policymakers, and representatives from affected communities, to create inclusive and representative guidelines.\n",
       "\n",
       "2. **Foster Collaborative Innovation**:\n",
       "   - Encourage collaboration between industry, academia, and governmental bodies to ensure that AI innovation is aligned with societal values and needs. Joint initiatives can help foster responsible research and development.\n",
       "   - Promote open-source AI projects that allow public scrutiny and collective improvement, reducing the risks associated with proprietary systems.\n",
       "\n",
       "3. **Implement Regulatory Oversight**:\n",
       "   - Formulate and enforce regulations that govern the development and deployment of AI technologies. This can include requirements for safety testing, bias assessment, and data protection.\n",
       "   - Adapt regulatory frameworks as technology evolves, ensuring timely responses to emerging risks while still allowing for innovation.\n",
       "\n",
       "4. **Invest in Public Education and Awareness**:\n",
       "   - Increase public understanding of AI technologies, their benefits, and potential risks. An informed public can better engage in discussions about AI and its implications for society.\n",
       "   - Support educational initiatives that equip future generations with the skills to navigate a labor market influenced by AI and to engage critically with technology.\n",
       "\n",
       "5. **Prioritize Research into AI Safety and Ethics**:\n",
       "   - Allocate funding for research that focuses on AI safety, ethical implications, and long-term societal impacts. This includes studying issues related to job displacement, security, and moral considerations.\n",
       "   - Foster interdisciplinary research that integrates perspectives from ethics, law, social sciences, and technology to comprehensively understand the ramifications of AI.\n",
       "\n",
       "6. **Encourage Diverse Perspectives in AI Development**:\n",
       "   - Promote diversity within AI development teams to ensure varied viewpoints are considered, which can help mitigate bias and better serve a wider range of societal needs.\n",
       "   - Include voices from traditionally underserved communities in the design and deployment of AI technologies, ensuring that these systems are equitable and just.\n",
       "\n",
       "7. **Adopt a Proactive Approach to Risk Management**:\n",
       "   - Conduct thorough risk assessments and scenario planning for AI systems to identify potential dangers and develop mitigation strategies proactively.\n",
       "   - Prepare for scenarios involving unintended consequences and create robust contingency plans to address them.\n",
       "\n",
       "8. **Cultivate Ethical Leadership in Technology**:\n",
       "   - Encourage leaders in technology firms to prioritize ethical considerations in decision-making processes. This can be facilitated through training and accountability measures.\n",
       "   - Develop a culture within organizations that values ethical considerations alongside profitability and innovation.\n",
       "\n",
       "9. **Engage in Global Dialogue**:\n",
       "   - Participate in international discussions and agreements on AI ethics and regulation to foster cooperation and shared standards, addressing the global nature of the technology.\n",
       "   - Consider the implications of AI on a global scale, taking into account how different regions may be impacted differently.\n",
       "\n",
       "By addressing these considerations, society can work towards a balanced approach that harnesses the benefits of advanced AI while mitigating its risks, ensuring that progress is not achieved at the expense of ethical principles and societal welfare."
      ],
      "text/plain": [
       "<IPython.core.display.Markdown object>"
      ]
     },
     "metadata": {},
     "output_type": "display_data"
    }
   ],
   "source": [
    "# The API we know well\n",
    "\n",
    "model_name = \"gpt-4o-mini\"\n",
    "\n",
    "response = openai.chat.completions.create(model=model_name, messages=messages)\n",
    "answer = response.choices[0].message.content\n",
    "\n",
    "display(Markdown(answer))\n",
    "competitors.append(model_name)\n",
    "answers.append(answer)"
   ]
  },
  {
   "cell_type": "code",
   "execution_count": null,
   "metadata": {},
   "outputs": [],
   "source": [
    "# Anthropic has a slightly different API, and Max Tokens is required\n",
    "\n",
    "model_name = \"claude-3-7-sonnet-latest\"\n",
    "\n",
    "claude = Anthropic()\n",
    "response = claude.messages.create(model=model_name, messages=messages, max_tokens=1000)\n",
    "answer = response.content[0].text\n",
    "\n",
    "display(Markdown(answer))\n",
    "competitors.append(model_name)\n",
    "answers.append(answer)"
   ]
  },
  {
   "cell_type": "code",
   "execution_count": null,
   "metadata": {},
   "outputs": [],
   "source": [
    "gemini = OpenAI(api_key=google_api_key, base_url=\"https://generativelanguage.googleapis.com/v1beta/openai/\")\n",
    "model_name = \"gemini-2.0-flash\"\n",
    "\n",
    "response = gemini.chat.completions.create(model=model_name, messages=messages)\n",
    "answer = response.choices[0].message.content\n",
    "\n",
    "display(Markdown(answer))\n",
    "competitors.append(model_name)\n",
    "answers.append(answer)"
   ]
  },
  {
   "cell_type": "code",
   "execution_count": null,
   "metadata": {},
   "outputs": [],
   "source": [
    "deepseek = OpenAI(api_key=deepseek_api_key, base_url=\"https://api.deepseek.com/v1\")\n",
    "model_name = \"deepseek-chat\"\n",
    "\n",
    "response = deepseek.chat.completions.create(model=model_name, messages=messages)\n",
    "answer = response.choices[0].message.content\n",
    "\n",
    "display(Markdown(answer))\n",
    "competitors.append(model_name)\n",
    "answers.append(answer)"
   ]
  },
  {
   "cell_type": "code",
   "execution_count": null,
   "metadata": {},
   "outputs": [],
   "source": [
    "groq = OpenAI(api_key=groq_api_key, base_url=\"https://api.groq.com/openai/v1\")\n",
    "model_name = \"llama-3.3-70b-versatile\"\n",
    "\n",
    "response = groq.chat.completions.create(model=model_name, messages=messages)\n",
    "answer = response.choices[0].message.content\n",
    "\n",
    "display(Markdown(answer))\n",
    "competitors.append(model_name)\n",
    "answers.append(answer)\n"
   ]
  },
  {
   "cell_type": "markdown",
   "metadata": {},
   "source": [
    "## For the next cell, we will use Ollama\n",
    "\n",
    "Ollama runs a local web service that gives an OpenAI compatible endpoint,  \n",
    "and runs models locally using high performance C++ code.\n",
    "\n",
    "If you don't have Ollama, install it here by visiting https://ollama.com then pressing Download and following the instructions.\n",
    "\n",
    "After it's installed, you should be able to visit here: http://localhost:11434 and see the message \"Ollama is running\"\n",
    "\n",
    "You might need to restart Cursor (and maybe reboot). Then open a Terminal (control+\\`) and run `ollama serve`\n",
    "\n",
    "Useful Ollama commands (run these in the terminal, or with an exclamation mark in this notebook):\n",
    "\n",
    "`ollama pull <model_name>` downloads a model locally  \n",
    "`ollama ls` lists all the models you've downloaded  \n",
    "`ollama rm <model_name>` deletes the specified model from your downloads"
   ]
  },
  {
   "cell_type": "markdown",
   "metadata": {},
   "source": [
    "<table style=\"margin: 0; text-align: left; width:100%\">\n",
    "    <tr>\n",
    "        <td style=\"width: 150px; height: 150px; vertical-align: middle;\">\n",
    "            <img src=\"../assets/stop.png\" width=\"150\" height=\"150\" style=\"display: block;\" />\n",
    "        </td>\n",
    "        <td>\n",
    "            <h2 style=\"color:#ff7800;\">Super important - ignore me at your peril!</h2>\n",
    "            <span style=\"color:#ff7800;\">The model called <b>llama3.3</b> is FAR too large for home computers - it's not intended for personal computing and will consume all your resources! Stick with the nicely sized <b>llama3.2</b> or <b>llama3.2:1b</b> and if you want larger, try llama3.1 or smaller variants of Qwen, Gemma, Phi or DeepSeek. See the <A href=\"https://ollama.com/models\">the Ollama models page</a> for a full list of models and sizes.\n",
    "            </span>\n",
    "        </td>\n",
    "    </tr>\n",
    "</table>"
   ]
  },
  {
   "cell_type": "code",
   "execution_count": null,
   "metadata": {},
   "outputs": [],
   "source": [
    "!ollama pull llama3.2"
   ]
  },
  {
   "cell_type": "code",
   "execution_count": 11,
   "metadata": {},
   "outputs": [
    {
     "data": {
      "text/markdown": [
       "Of course. This is a profound question that sits at the intersection of technology, ethics, and human well-being. Deploying Artificial General Intelligence (AGI)—an AI with human-like cognitive abilities across a wide range of tasks—in healthcare would be a paradigm shift with seismic implications.\n",
       "\n",
       "Here is a detailed breakdown of the implications and a reasoning for how to prioritize them.\n",
       "\n",
       "---\n",
       "\n",
       "### Implications of Deploying AGI in Healthcare\n",
       "\n",
       "#### 1. Ethical Implications\n",
       "This domain concerns questions of right and wrong, fairness, and human autonomy.\n",
       "\n",
       "*   **Patient Autonomy and Informed Consent:** How do you obtain \"informed consent\" when an AGI's decision-making process might be too complex for a human to fully grasp? Can a patient truly consent to a treatment plan designed by a \"black box\"?\n",
       "*   **Accountability and Liability:** In case of a misdiagnosis or a treatment error, who is responsible? The hospital that deployed the AGI? The developers who created it? The doctors who supervised it? This \"responsibility gap\" is a major legal and ethical challenge.\n",
       "*   **Bias and Fairness:** AGI systems are trained on data. If historical healthcare data reflects existing societal biases (e.g., under-diagnosis of certain conditions in women or minorities), the AGI will perpetuate and potentially amplify these biases, leading to unequal care.\n",
       "*   **Privacy and Data Sovereignty:** AGI would require access to immense amounts of personal health data, including genomic information. The potential for misuse, breaches, or use by third parties (e.g., insurers, employers) is enormous, threatening patient privacy.\n",
       "*   **The Doctor-Patient Relationship:** Would the human element of care—empathy, compassion, intuition—be devalued? An over-reliance on AGI could lead to a transactional, mechanistic view of healthcare, eroding trust.\n",
       "\n",
       "#### 2. Economic Implications\n",
       "This focuses on the financial and market-related consequences.\n",
       "\n",
       "*   **Massive Efficiency Gains and Cost Reduction:** AGI could drastically reduce administrative burdens, optimize hospital logistics, accelerate drug discovery, and provide incredibly efficient diagnostic services, potentially lowering healthcare costs overall.\n",
       "*   **Job Displacement and Transformation:** Roles involving pattern recognition and data analysis (e.g., radiologists, pathologists, clinical coders) would be fundamentally transformed. This doesn't necessarily mean mass unemployment, but a significant shift towards roles that manage, interpret, and provide a human context for AGI recommendations (e.g., \"AI-augmented clinicians\").\n",
       "*   **Concentration of Power and Market Monopolies:** The development of AGI requires immense resources. This could lead to a scenario where a few mega-corporations control the core AGI healthcare technology, giving them unprecedented power over the global healthcare market and potentially creating anticompetitive practices.\n",
       "*   **Healthcare Access Inequality:** There's a high risk that AGI-driven healthcare becomes a luxury service, initially available only to wealthy individuals and nations, thereby exacerbating global health disparities.\n",
       "\n",
       "#### 3. Societal Implications\n",
       "This encompasses the broader impact on communities, cultures, and human society.\n",
       "\n",
       "*   **Shifting Definitions of Health and Normality:** AGI might define \"optimal health\" based on statistical norms, potentially pathologizing normal human variations and increasing pressure for medical enhancement.\n",
       "*   **Erosion of Human Expertise:** Over-reliance on AGI could lead to the atrophy of human medical skills and clinical judgment. If the AGI system fails or is compromised, would there be enough human expertise to fall back on?\n",
       "*   **Global Health Security:** AGI could be a powerful tool for predicting and managing pandemics by modeling disease spread and optimizing resource allocation. However, it could also be weaponized to design biological agents or create targeted misinformation during a health crisis.\n",
       "*   **Public Trust and Acceptance:** The success of AGI in healthcare hinges on public trust. A single high-profile failure, or a perception that the technology is \"dehumanizing,\" could lead to widespread rejection, regardless of its potential benefits.\n",
       "\n",
       "---\n",
       "\n",
       "### Prioritization Framework and Approach\n",
       "\n",
       "Prioritizing these factors is not about ignoring some in favor of others, but about establishing a logical sequence of *preconditions* for safe and beneficial deployment. My approach would be to prioritize them in tiers, where each tier must be adequately addressed before moving to the next.\n",
       "\n",
       "#### Tier 1: Foundational Ethical and Safety Prerequisites (The \"Do No Harm\" Tier)\n",
       "\n",
       "**This is the highest priority.** Before any large-scale economic or societal benefits can be realized, we must ensure the technology is fundamentally safe and just.\n",
       "\n",
       "*   **Rationale:** Deploying a powerful, potentially biased, or unsafe AGI system would cause immediate and irreversible harm, erode public trust forever, and nullify any potential benefits. You cannot build a sustainable economic model on an unethical foundation.\n",
       "*   **Key Priorities:**\n",
       "    1.  **Robust Safety and Alignment:** The AGI must be rigorously tested and aligned with human values (specifically, patient well-being). It must be reliable and have built-in \"kill switches.\"\n",
       "    2.  **Accountability Frameworks:** Clear legal and ethical frameworks for liability must be established *before* deployment. We must know who is answerable when something goes wrong.\n",
       "    3.  **Bias Mitigation and Fairness:** A mandatory, auditable process for identifying and removing biases in training data and algorithms is non-negotiable. Equity must be engineered into the system from the start.\n",
       "    4.  **Transparency and Explainability (XAI):** We may not need to understand the AGI's entire \"thought process,\" but we must be able to explain its recommendations in a way that clinicians and patients can understand and challenge.\n",
       "\n",
       "#### Tier 2: Economic and Governance Structures (The \"Sustainable and Equitable\" Tier)\n",
       "\n",
       "**This is the second priority.** Once a safe and ethical foundation is laid, the focus shifts to building an economic model that promotes access and prevents harmful monopolies.\n",
       "\n",
       "*   **Rationale:** Without thoughtful economic planning, the benefits of AGI will be concentrated, leading to greater inequality and social unrest, which undermines the societal good of healthcare.\n",
       "*   **Key Priorities:**\n",
       "    1.  **Workforce Transformation Strategies:** Invest heavily in reskilling and educating the current and future healthcare workforce to work *with* AGI, not be replaced by it.\n",
       "    2.  **Accessible Pricing and Public Utility Models:** Explore models that treat core AGI healthcare capabilities as a public good or heavily regulated utility to ensure broad access, not just a profit-maximizing product.\n",
       "    3.  **Antitrust and Regulation:** Implement strong antitrust regulations to prevent monopolistic control and ensure a competitive market that fosters innovation and keeps costs in check.\n",
       "\n",
       "#### Tier 3: Long-Term Societal Integration and Monitoring (The \"Adaptive Governance\" Tier)\n",
       "\n",
       "**This is the ongoing priority.** Society must continuously monitor and adapt to the changes brought by AGI.\n",
       "\n",
       "*   **Rationale:** The societal impact of AGI will unfold over decades. We need flexible, adaptive systems to manage these changes responsibly.\n",
       "*   **Key Priorities:**\n",
       "    1.  **Promoting the Human-in-the-Loop:** Legislate and cultivate a model where AGI is a tool that *augments* human decision-making, not replaces it, preserving the doctor-patient relationship.\n",
       "    2.  **Continuous Public Dialogue and Education:** Maintain transparent, ongoing societal conversations about the role of AGI in health, addressing concerns and shaping norms collectively.\n",
       "    3.  **International Cooperation:** Establish global standards and treaties for the use of AGI in healthcare, particularly concerning data privacy, security, and ethical use, to manage global risks and inequalities.\n",
       "\n",
       "In summary, my prioritized approach is: **First, ensure it is ethical and safe. Second, build an economic model that is equitable. Third, guide its long-term integration into society with continuous, adaptive governance.** Skipping the first tier in a rush for economic gain would be a catastrophic mistake."
      ],
      "text/plain": [
       "<IPython.core.display.Markdown object>"
      ]
     },
     "metadata": {},
     "output_type": "display_data"
    }
   ],
   "source": [
    "ollama = OpenAI(base_url='http://localhost:11434/v1', api_key='ollama')\n",
    "model_name = \"deepseek-v3.1:671b-cloud\"\n",
    "\n",
    "response = ollama.chat.completions.create(model=model_name, messages=messages)\n",
    "answer = response.choices[0].message.content\n",
    "\n",
    "display(Markdown(answer))\n",
    "competitors.append(model_name)\n",
    "answers.append(answer)"
   ]
  },
  {
   "cell_type": "code",
   "execution_count": null,
   "metadata": {},
   "outputs": [],
   "source": [
    "# So where are we?\n",
    "\n",
    "print(competitors)\n",
    "print(answers)\n"
   ]
  },
  {
   "cell_type": "code",
   "execution_count": null,
   "metadata": {},
   "outputs": [],
   "source": [
    "# It's nice to know how to use \"zip\"\n",
    "for competitor, answer in zip(competitors, answers):\n",
    "    print(f\"Competitor: {competitor}\\n\\n{answer}\")\n"
   ]
  },
  {
   "cell_type": "code",
   "execution_count": 20,
   "metadata": {},
   "outputs": [],
   "source": [
    "# Let's bring this together - note the use of \"enumerate\"\n",
    "\n",
    "together = \"\"\n",
    "for index, answer in enumerate(answers):\n",
    "    together += f\"# Response from competitor {index+1}\\n\\n\"\n",
    "    together += answer + \"\\n\\n\""
   ]
  },
  {
   "cell_type": "code",
   "execution_count": null,
   "metadata": {},
   "outputs": [],
   "source": [
    "print(together)"
   ]
  },
  {
   "cell_type": "code",
   "execution_count": 22,
   "metadata": {},
   "outputs": [],
   "source": [
    "judge = f\"\"\"You are judging a competition between {len(competitors)} competitors.\n",
    "Each model has been given this question:\n",
    "\n",
    "{question}\n",
    "\n",
    "Your job is to evaluate each response for clarity and strength of argument, and rank them in order of best to worst.\n",
    "Respond with JSON, and only JSON, with the following format:\n",
    "{{\"results\": [\"best competitor number\", \"second best competitor number\", \"third best competitor number\", ...]}}\n",
    "\n",
    "Here are the responses from each competitor:\n",
    "\n",
    "{together}\n",
    "\n",
    "Now respond with the JSON with the ranked order of the competitors, nothing else. Do not include markdown formatting or code blocks.\"\"\"\n"
   ]
  },
  {
   "cell_type": "code",
   "execution_count": null,
   "metadata": {},
   "outputs": [],
   "source": [
    "print(judge)"
   ]
  },
  {
   "cell_type": "code",
   "execution_count": 29,
   "metadata": {},
   "outputs": [],
   "source": [
    "judge_messages = [{\"role\": \"user\", \"content\": judge}]"
   ]
  },
  {
   "cell_type": "code",
   "execution_count": null,
   "metadata": {},
   "outputs": [],
   "source": [
    "# Judgement time!\n",
    "\n",
    "openai = OpenAI()\n",
    "response = openai.chat.completions.create(\n",
    "    model=\"o3-mini\",\n",
    "    messages=judge_messages,\n",
    ")\n",
    "results = response.choices[0].message.content\n",
    "print(results)\n"
   ]
  },
  {
   "cell_type": "code",
   "execution_count": null,
   "metadata": {},
   "outputs": [],
   "source": [
    "# OK let's turn this into results!\n",
    "\n",
    "results_dict = json.loads(results)\n",
    "ranks = results_dict[\"results\"]\n",
    "for index, result in enumerate(ranks):\n",
    "    competitor = competitors[int(result)-1]\n",
    "    print(f\"Rank {index+1}: {competitor}\")"
   ]
  },
  {
   "cell_type": "markdown",
   "metadata": {},
   "source": [
    "<table style=\"margin: 0; text-align: left; width:100%\">\n",
    "    <tr>\n",
    "        <td style=\"width: 150px; height: 150px; vertical-align: middle;\">\n",
    "            <img src=\"../assets/exercise.png\" width=\"150\" height=\"150\" style=\"display: block;\" />\n",
    "        </td>\n",
    "        <td>\n",
    "            <h2 style=\"color:#ff7800;\">Exercise</h2>\n",
    "            <span style=\"color:#ff7800;\">Which pattern(s) did this use? Try updating this to add another Agentic design pattern.\n",
    "            </span>\n",
    "        </td>\n",
    "    </tr>\n",
    "</table>"
   ]
  },
  {
   "cell_type": "markdown",
   "metadata": {},
   "source": [
    "<table style=\"margin: 0; text-align: left; width:100%\">\n",
    "    <tr>\n",
    "        <td style=\"width: 150px; height: 150px; vertical-align: middle;\">\n",
    "            <img src=\"../assets/business.png\" width=\"150\" height=\"150\" style=\"display: block;\" />\n",
    "        </td>\n",
    "        <td>\n",
    "            <h2 style=\"color:#00bfff;\">Commercial implications</h2>\n",
    "            <span style=\"color:#00bfff;\">These kinds of patterns - to send a task to multiple models, and evaluate results,\n",
    "            are common where you need to improve the quality of your LLM response. This approach can be universally applied\n",
    "            to business projects where accuracy is critical.\n",
    "            </span>\n",
    "        </td>\n",
    "    </tr>\n",
    "</table>"
   ]
  }
 ],
 "metadata": {
  "kernelspec": {
   "display_name": ".venv",
   "language": "python",
   "name": "python3"
  },
  "language_info": {
   "codemirror_mode": {
    "name": "ipython",
    "version": 3
   },
   "file_extension": ".py",
   "mimetype": "text/x-python",
   "name": "python",
   "nbconvert_exporter": "python",
   "pygments_lexer": "ipython3",
   "version": "3.12.11"
  }
 },
 "nbformat": 4,
 "nbformat_minor": 2
}
