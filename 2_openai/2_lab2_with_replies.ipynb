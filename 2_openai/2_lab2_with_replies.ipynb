{
 "cells": [
  {
   "cell_type": "markdown",
   "metadata": {},
   "source": [
    "## Week 2 Day 2\n",
    "\n",
    "Our first Agentic Framework project!!\n",
    "\n",
    "Prepare yourself for something ridiculously easy.\n",
    "\n",
    "We're going to build a simple Agent system for generating cold sales outreach emails:\n",
    "1. Agent workflow\n",
    "2. Use of tools to call functions\n",
    "3. Agent collaboration via Tools and Handoffs"
   ]
  },
  {
   "cell_type": "markdown",
   "metadata": {},
   "source": [
    "## Before we start - some setup:\n",
    "\n",
    "\n",
    "Please visit Sendgrid at: https://sendgrid.com/\n",
    "\n",
    "(Sendgrid is a Twilio company for sending emails.)\n",
    "\n",
    "If SendGrid gives you problems, see the alternative implementation using \"Resend Email\" in community_contributions/2_lab2_with_resend_email\n",
    "\n",
    "Please set up an account - it's free! (at least, for me, right now).\n",
    "\n",
    "Once you've created an account, click on:\n",
    "\n",
    "Settings (left sidebar) >> API Keys >> Create API Key (button on top right)\n",
    "\n",
    "Copy the key to the clipboard, then add a new line to your .env file:\n",
    "\n",
    "`SENDGRID_API_KEY=xxxx`\n",
    "\n",
    "And also, within SendGrid, go to:\n",
    "\n",
    "Settings (left sidebar) >> Sender Authentication >> \"Verify a Single Sender\"  \n",
    "and verify that your own email address is a real email address, so that SendGrid can send emails for you.\n"
   ]
  },
  {
   "cell_type": "code",
   "execution_count": 48,
   "metadata": {},
   "outputs": [],
   "source": [
    "from dotenv import load_dotenv\n",
    "from agents import Agent, Runner, trace, function_tool\n",
    "from openai.types.responses import ResponseTextDeltaEvent\n",
    "from typing import Dict\n",
    "import sendgrid\n",
    "import os\n",
    "from sendgrid.helpers.mail import Mail, Email, To, Content\n",
    "import asyncio\n",
    "\n",
    "# Email configuration - change these to your verified sender and recipient\n",
    "SENDER_EMAIL = \"johnny.jarecsni@icloud.com\"\n",
    "RECIPIENT_EMAIL = \"johnny.jarecsni@gmail.com\"\n"
   ]
  },
  {
   "cell_type": "code",
   "execution_count": 49,
   "metadata": {},
   "outputs": [
    {
     "data": {
      "text/plain": [
       "True"
      ]
     },
     "execution_count": 49,
     "metadata": {},
     "output_type": "execute_result"
    }
   ],
   "source": [
    "load_dotenv(override=True)"
   ]
  },
  {
   "cell_type": "code",
   "execution_count": 50,
   "metadata": {},
   "outputs": [
    {
     "name": "stdout",
     "output_type": "stream",
     "text": [
      "202\n"
     ]
    }
   ],
   "source": [
    "# Let's just check emails are working for you\n",
    "\n",
    "def send_test_email():\n",
    "    sg = sendgrid.SendGridAPIClient(api_key=os.environ.get('SENDGRID_API_KEY'))\n",
    "    from_email = Email(SENDER_EMAIL)\n",
    "    to_email = To(RECIPIENT_EMAIL)\n",
    "    content = Content(\"text/plain\", \"This is an important test email\")\n",
    "    mail = Mail(from_email, to_email, \"Test email\", content).get()\n",
    "    response = sg.client.mail.send.post(request_body=mail)\n",
    "    print(response.status_code)\n",
    "\n",
    "send_test_email()"
   ]
  },
  {
   "cell_type": "markdown",
   "metadata": {},
   "source": [
    "### Did you receive the test email\n",
    "\n",
    "If you get a 202, then you're good to go!\n",
    "\n",
    "#### Certificate error\n",
    "\n",
    "If you get an error SSL: CERTIFICATE_VERIFY_FAILED then students Chris S and Oleksandr K have suggestions:  \n",
    "First run this: `!uv pip install --upgrade certifi`  \n",
    "Next, run this:\n",
    "```python\n",
    "import certifi\n",
    "import os\n",
    "os.environ['SSL_CERT_FILE'] = certifi.where()\n",
    "```\n",
    "\n",
    "#### Other errors or no email\n",
    "\n",
    "If there are other problems, you'll need to check your API key and your verified sender email address in the SendGrid dashboard\n",
    "\n",
    "Or use the alternative implementation using \"Resend Email\" in community_contributions/2_lab2_with_resend_email\n",
    "\n",
    "(Or - you could always replace the email sending code below with a Pushover call, or something to simply write to a flat file)"
   ]
  },
  {
   "cell_type": "markdown",
   "metadata": {},
   "source": [
    "## Step 1: Agent workflow"
   ]
  },
  {
   "cell_type": "code",
   "execution_count": 51,
   "metadata": {},
   "outputs": [],
   "source": [
    "instructions1 = \"You are a sales agent working for ComplAI, \\\n",
    "a company that provides a SaaS tool for ensuring SOC2 compliance and preparing for audits, powered by AI. \\\n",
    "You write professional, serious cold emails.\"\n",
    "\n",
    "instructions2 = \"You are a humorous, engaging sales agent working for ComplAI, \\\n",
    "a company that provides a SaaS tool for ensuring SOC2 compliance and preparing for audits, powered by AI. \\\n",
    "You write witty, engaging cold emails that are likely to get a response.\"\n",
    "\n",
    "instructions3 = \"You are a busy sales agent working for ComplAI, \\\n",
    "a company that provides a SaaS tool for ensuring SOC2 compliance and preparing for audits, powered by AI. \\\n",
    "You write concise, to the point cold emails.\""
   ]
  },
  {
   "cell_type": "code",
   "execution_count": 52,
   "metadata": {},
   "outputs": [],
   "source": [
    "sales_agent1 = Agent(\n",
    "        name=\"Professional Sales Agent\",\n",
    "        instructions=instructions1,\n",
    "        model=\"gpt-4o-mini\"\n",
    ")\n",
    "\n",
    "sales_agent2 = Agent(\n",
    "        name=\"Engaging Sales Agent\",\n",
    "        instructions=instructions2,\n",
    "        model=\"gpt-4o-mini\"\n",
    ")\n",
    "\n",
    "sales_agent3 = Agent(\n",
    "        name=\"Busy Sales Agent\",\n",
    "        instructions=instructions3,\n",
    "        model=\"gpt-4o-mini\"\n",
    ")"
   ]
  },
  {
   "cell_type": "code",
   "execution_count": 53,
   "metadata": {},
   "outputs": [
    {
     "name": "stdout",
     "output_type": "stream",
     "text": [
      "Subject: Streamline Your SOC 2 Compliance Efforts\n",
      "\n",
      "Dear [Recipient's Name],\n",
      "\n",
      "I hope this message finds you well. I’m [Your Name], a representative from ComplAI, where we specialize in simplifying the complexities of SOC 2 compliance. \n",
      "\n",
      "In today’s fast-paced digital landscape, ensuring that your organization meets compliance standards is more crucial than ever. Our AI-powered SaaS tool not only automates the compliance process but also prepares you for audits with ease, saving you time and reducing stress.\n",
      "\n",
      "Here are a few key benefits our platform offers:\n",
      "\n",
      "- **Automated Documentation:** Streamline the creation and management of required documentation.\n",
      "- **Audit Readiness:** Be prepared for audits with comprehensive reports and real-time data.\n",
      "- **Continuous Monitoring:** Gain insights into compliance status at any time.\n",
      "\n",
      "I would love to schedule a brief call to discuss how ComplAI can assist your organization in achieving and maintaining SOC 2 compliance effectively. Are you available for a quick chat this week?\n",
      "\n",
      "Thank you for considering ComplAI. I look forward to the possibility of working together to enhance your compliance process.\n",
      "\n",
      "Best regards,\n",
      "\n",
      "[Your Name]  \n",
      "[Your Position]  \n",
      "ComplAI  \n",
      "[Your Phone Number]  \n",
      "[Your Email Address]  \n",
      "[Website URL]  "
     ]
    }
   ],
   "source": [
    "\n",
    "result = Runner.run_streamed(sales_agent1, input=\"Write a cold sales email\")\n",
    "async for event in result.stream_events():\n",
    "    if event.type == \"raw_response_event\" and isinstance(event.data, ResponseTextDeltaEvent):\n",
    "        print(event.data.delta, end=\"\", flush=True)"
   ]
  },
  {
   "cell_type": "code",
   "execution_count": 54,
   "metadata": {},
   "outputs": [
    {
     "name": "stdout",
     "output_type": "stream",
     "text": [
      "Subject: Streamline Your SOC 2 Compliance Process with ComplAI\n",
      "\n",
      "Hi [Recipient's Name],\n",
      "\n",
      "I hope this message finds you well. My name is [Your Name], and I’m reaching out to introduce you to ComplAI, a cutting-edge SaaS solution designed to simplify the SOC 2 compliance journey for businesses like yours.\n",
      "\n",
      "Achieving and maintaining SOC 2 compliance can be a complex and time-consuming process. ComplAI leverages advanced AI technology to automate various aspects of compliance management, ensuring that your organization not only meets but exceeds industry standards with ease. Our platform offers:\n",
      "\n",
      "- **Real-time monitoring** of compliance status\n",
      "- **Automated documentation** preparation for audits\n",
      "- **Continuous risk assessments** to stay ahead of potential issues\n",
      "\n",
      "By implementing ComplAI, you can reduce the time and resources spent on manual compliance processes, allowing your team to focus on what truly matters: driving your business forward.\n",
      "\n",
      "I would love to schedule a brief call to discuss how ComplAI can specifically benefit your organization and address any compliance challenges you might be facing.\n",
      "\n",
      "Looking forward to the opportunity to connect.\n",
      "\n",
      "Best regards,\n",
      "\n",
      "[Your Name]  \n",
      "[Your Position]  \n",
      "ComplAI  \n",
      "[Your Phone Number]  \n",
      "[Your Email Address]  \n",
      "[Website URL]  \n",
      "\n",
      "\n",
      "Subject: Let’s Make SOC2 Compliance Less of a Headache! 😅\n",
      "\n",
      "Hi [Recipient's Name],\n",
      "\n",
      "I hope this email finds you sipping a coffee and not drowning in a sea of compliance documents! 🚤\n",
      "\n",
      "Let’s face it: SOC2 compliance can be about as fun as watching paint dry...in slow motion. But what if I told you that with ComplAI, it doesn’t have to be? Imagine an auditing process that feels less like a horror movie and more like a delightful Netflix binge. \n",
      "\n",
      "Our AI-powered tool streamlines compliance, making it as easy as finding cat videos on the internet (and we all know that’s a breeze!). From real-time monitoring to audit prep that won’t leave you in a cold sweat, we’ve got you covered. \n",
      "\n",
      "Curious about how we can help take your compliance efforts from “Yikes!” to “Yes, please!”? Let’s schedule a quick chat! I promise no compliance jargon will make its way into the conversation…unless you want it to.\n",
      "\n",
      "Looking forward to hearing from you!\n",
      "\n",
      "Warm (and stress-free) regards,\n",
      "\n",
      "[Your Name]  \n",
      "[Your Title]  \n",
      "ComplAI  \n",
      "[Your Phone Number]  \n",
      "[Your LinkedIn URL]  \n",
      "\n",
      "P.S. You’ll be surprised at how much easier audits can be when you have the right tools. It’s like upgrading from a flip phone to the latest smartphone—night and day! 📱✨\n",
      "\n",
      "\n",
      "Subject: Simplify Your SOC2 Compliance Process\n",
      "\n",
      "Hi [Recipient's Name],\n",
      "\n",
      "I hope this message finds you well! I’m [Your Name] from ComplAI, where we help companies like yours streamline their SOC2 compliance and audit preparation using our AI-powered SaaS tool.\n",
      "\n",
      "Our solution automates documentation, tracks compliance requirements, and simplifies the audit process, saving you valuable time and reducing stress.\n",
      "\n",
      "Are you open to a quick chat this week to explore how we can help enhance your compliance efforts?\n",
      "\n",
      "Best,  \n",
      "[Your Name]  \n",
      "[Your Job Title]  \n",
      "ComplAI  \n",
      "[Your Phone Number]  \n",
      "[Your Company Website]  \n",
      "\n",
      "\n"
     ]
    }
   ],
   "source": [
    "message = \"Write a cold sales email\"\n",
    "\n",
    "with trace(\"Parallel cold emails\"):\n",
    "    results = await asyncio.gather(\n",
    "        Runner.run(sales_agent1, message),\n",
    "        Runner.run(sales_agent2, message),\n",
    "        Runner.run(sales_agent3, message),\n",
    "    )\n",
    "\n",
    "outputs = [result.final_output for result in results]\n",
    "\n",
    "for output in outputs:\n",
    "    print(output + \"\\n\\n\")\n"
   ]
  },
  {
   "cell_type": "code",
   "execution_count": 55,
   "metadata": {},
   "outputs": [],
   "source": [
    "sales_picker = Agent(\n",
    "    name=\"sales_picker\",\n",
    "    instructions=\"You pick the best cold sales email from the given options. \\\n",
    "Imagine you are a customer and pick the one you are most likely to respond to. \\\n",
    "Do not give an explanation; reply with the selected email only.\",\n",
    "    model=\"gpt-4o-mini\"\n",
    ")"
   ]
  },
  {
   "cell_type": "code",
   "execution_count": 56,
   "metadata": {},
   "outputs": [
    {
     "name": "stdout",
     "output_type": "stream",
     "text": [
      "Best sales email:\n",
      "Subject: A SOC2 Ninja to Slice Through Your Compliance Worries! 🥷💼\n",
      "\n",
      "Hi [Recipient's Name],\n",
      "\n",
      "Ever feel like managing SOC2 compliance is like trying to assemble IKEA furniture blindfolded? Pieces everywhere, instructions in a foreign language, and at the end, you’re left wondering if it’ll collapse under pressure! 😅\n",
      "\n",
      "Well, let me introduce you to ComplAI: your trusty sidekick in the quest for stress-free compliance. Our AI-powered tool doesn’t just help you prepare for audits—it practically rolls out the red carpet! 🎉\n",
      "\n",
      "Here’s how we work our magic:\n",
      "\n",
      "1. **Stress Less**: We automate the boring stuff, so you can focus on more critical tasks—like figuring out why your coffee machine is always broken. ☕\n",
      "   \n",
      "2. **Audit Ready**: We get you prepared to impress auditors, or as I like to call them, the compliance superheroes! 🦸‍♂️\n",
      "\n",
      "3. **Peace of Mind**: With our AI, you can finally sleep soundly, knowing compliance won’t keep you up at night (unless you have that coffee machine again…).\n",
      "\n",
      "Curious to see if we could be the dynamic duo you didn’t know you needed? Let’s chat! I promise to keep the IKEA metaphors to a minimum. 😉\n",
      "\n",
      "Best,  \n",
      "[Your Name]  \n",
      "[Your Position]  \n",
      "ComplAI  \n",
      "[Your Contact Information]  \n",
      "\n",
      "P.S. If audits were a movie, we’d be the Oscar-winning scriptwriters! 🎬\n"
     ]
    }
   ],
   "source": [
    "message = \"Write a cold sales email\"\n",
    "\n",
    "with trace(\"Selection from sales people\"):\n",
    "    results = await asyncio.gather(\n",
    "        Runner.run(sales_agent1, message),\n",
    "        Runner.run(sales_agent2, message),\n",
    "        Runner.run(sales_agent3, message),\n",
    "    )\n",
    "    outputs = [result.final_output for result in results]\n",
    "\n",
    "    emails = \"Cold sales emails:\\n\\n\" + \"\\n\\nEmail:\\n\\n\".join(outputs)\n",
    "\n",
    "    best = await Runner.run(sales_picker, emails)\n",
    "\n",
    "    print(f\"Best sales email:\\n{best.final_output}\")\n"
   ]
  },
  {
   "cell_type": "markdown",
   "metadata": {},
   "source": [
    "Now go and check out the trace:\n",
    "\n",
    "https://platform.openai.com/traces"
   ]
  },
  {
   "cell_type": "markdown",
   "metadata": {},
   "source": [
    "## Part 2: use of tools\n",
    "\n",
    "Now we will add a tool to the mix.\n",
    "\n",
    "Remember all that json boilerplate and the `handle_tool_calls()` function with the if logic.."
   ]
  },
  {
   "cell_type": "code",
   "execution_count": 57,
   "metadata": {},
   "outputs": [],
   "source": [
    "sales_agent1 = Agent(\n",
    "        name=\"Professional Sales Agent\",\n",
    "        instructions=instructions1,\n",
    "        model=\"gpt-4o-mini\",\n",
    ")\n",
    "\n",
    "sales_agent2 = Agent(\n",
    "        name=\"Engaging Sales Agent\",\n",
    "        instructions=instructions2,\n",
    "        model=\"gpt-4o-mini\",\n",
    ")\n",
    "\n",
    "sales_agent3 = Agent(\n",
    "        name=\"Busy Sales Agent\",\n",
    "        instructions=instructions3,\n",
    "        model=\"gpt-4o-mini\",\n",
    ")"
   ]
  },
  {
   "cell_type": "code",
   "execution_count": 58,
   "metadata": {},
   "outputs": [
    {
     "data": {
      "text/plain": [
       "Agent(name='Professional Sales Agent', instructions='You are a sales agent working for ComplAI, a company that provides a SaaS tool for ensuring SOC2 compliance and preparing for audits, powered by AI. You write professional, serious cold emails.', prompt=None, handoff_description=None, handoffs=[], model='gpt-4o-mini', model_settings=ModelSettings(temperature=None, top_p=None, frequency_penalty=None, presence_penalty=None, tool_choice=None, parallel_tool_calls=None, truncation=None, max_tokens=None, reasoning=None, metadata=None, store=None, include_usage=None, extra_query=None, extra_body=None, extra_headers=None, extra_args=None), tools=[], mcp_servers=[], mcp_config={}, input_guardrails=[], output_guardrails=[], output_type=None, hooks=None, tool_use_behavior='run_llm_again', reset_tool_choice=True)"
      ]
     },
     "execution_count": 58,
     "metadata": {},
     "output_type": "execute_result"
    }
   ],
   "source": [
    "sales_agent1"
   ]
  },
  {
   "cell_type": "markdown",
   "metadata": {},
   "source": [
    "## Steps 2 and 3: Tools and Agent interactions\n",
    "\n",
    "Remember all that boilerplate json?\n",
    "\n",
    "Simply wrap your function with the decorator `@function_tool`"
   ]
  },
  {
   "cell_type": "code",
   "execution_count": 59,
   "metadata": {},
   "outputs": [],
   "source": [
    "@function_tool\n",
    "def send_email(body: str):\n",
    "    \"\"\" Send out an email with the given body to all sales prospects \"\"\"\n",
    "    sg = sendgrid.SendGridAPIClient(api_key=os.environ.get('SENDGRID_API_KEY'))\n",
    "    from_email = Email(SENDER_EMAIL)\n",
    "    to_email = To(RECIPIENT_EMAIL)\n",
    "    content = Content(\"text/plain\", body)\n",
    "    mail = Mail(from_email, to_email, \"Sales email\", content).get()\n",
    "    sg.client.mail.send.post(request_body=mail)\n",
    "    return {\"status\": \"success\"}"
   ]
  },
  {
   "cell_type": "markdown",
   "metadata": {},
   "source": [
    "### This has automatically been converted into a tool, with the boilerplate json created"
   ]
  },
  {
   "cell_type": "code",
   "execution_count": 60,
   "metadata": {},
   "outputs": [
    {
     "data": {
      "text/plain": [
       "FunctionTool(name='send_email', description='Send out an email with the given body to all sales prospects', params_json_schema={'properties': {'body': {'title': 'Body', 'type': 'string'}}, 'required': ['body'], 'title': 'send_email_args', 'type': 'object', 'additionalProperties': False}, on_invoke_tool=<function function_tool.<locals>._create_function_tool.<locals>._on_invoke_tool at 0x1104ad260>, strict_json_schema=True, is_enabled=True)"
      ]
     },
     "execution_count": 60,
     "metadata": {},
     "output_type": "execute_result"
    }
   ],
   "source": [
    "# Let's look at it\n",
    "send_email"
   ]
  },
  {
   "cell_type": "markdown",
   "metadata": {},
   "source": [
    "### And you can also convert an Agent into a tool"
   ]
  },
  {
   "cell_type": "code",
   "execution_count": 61,
   "metadata": {},
   "outputs": [
    {
     "data": {
      "text/plain": [
       "FunctionTool(name='sales_agent1', description='Write a cold sales email', params_json_schema={'properties': {'input': {'title': 'Input', 'type': 'string'}}, 'required': ['input'], 'title': 'sales_agent1_args', 'type': 'object', 'additionalProperties': False}, on_invoke_tool=<function function_tool.<locals>._create_function_tool.<locals>._on_invoke_tool at 0x1106d8900>, strict_json_schema=True, is_enabled=True)"
      ]
     },
     "execution_count": 61,
     "metadata": {},
     "output_type": "execute_result"
    }
   ],
   "source": [
    "tool1 = sales_agent1.as_tool(tool_name=\"sales_agent1\", tool_description=\"Write a cold sales email\")\n",
    "tool1"
   ]
  },
  {
   "cell_type": "markdown",
   "metadata": {},
   "source": [
    "### So now we can gather all the tools together:\n",
    "\n",
    "A tool for each of our 3 email-writing agents\n",
    "\n",
    "And a tool for our function to send emails"
   ]
  },
  {
   "cell_type": "code",
   "execution_count": 62,
   "metadata": {},
   "outputs": [
    {
     "data": {
      "text/plain": [
       "[FunctionTool(name='sales_agent1', description='Write a cold sales email', params_json_schema={'properties': {'input': {'title': 'Input', 'type': 'string'}}, 'required': ['input'], 'title': 'sales_agent1_args', 'type': 'object', 'additionalProperties': False}, on_invoke_tool=<function function_tool.<locals>._create_function_tool.<locals>._on_invoke_tool at 0x1104adda0>, strict_json_schema=True, is_enabled=True),\n",
       " FunctionTool(name='sales_agent2', description='Write a cold sales email', params_json_schema={'properties': {'input': {'title': 'Input', 'type': 'string'}}, 'required': ['input'], 'title': 'sales_agent2_args', 'type': 'object', 'additionalProperties': False}, on_invoke_tool=<function function_tool.<locals>._create_function_tool.<locals>._on_invoke_tool at 0x10ff3a2a0>, strict_json_schema=True, is_enabled=True),\n",
       " FunctionTool(name='sales_agent3', description='Write a cold sales email', params_json_schema={'properties': {'input': {'title': 'Input', 'type': 'string'}}, 'required': ['input'], 'title': 'sales_agent3_args', 'type': 'object', 'additionalProperties': False}, on_invoke_tool=<function function_tool.<locals>._create_function_tool.<locals>._on_invoke_tool at 0x110667d80>, strict_json_schema=True, is_enabled=True),\n",
       " FunctionTool(name='send_email', description='Send out an email with the given body to all sales prospects', params_json_schema={'properties': {'body': {'title': 'Body', 'type': 'string'}}, 'required': ['body'], 'title': 'send_email_args', 'type': 'object', 'additionalProperties': False}, on_invoke_tool=<function function_tool.<locals>._create_function_tool.<locals>._on_invoke_tool at 0x1104ad260>, strict_json_schema=True, is_enabled=True)]"
      ]
     },
     "execution_count": 62,
     "metadata": {},
     "output_type": "execute_result"
    }
   ],
   "source": [
    "description = \"Write a cold sales email\"\n",
    "\n",
    "tool1 = sales_agent1.as_tool(tool_name=\"sales_agent1\", tool_description=description)\n",
    "tool2 = sales_agent2.as_tool(tool_name=\"sales_agent2\", tool_description=description)\n",
    "tool3 = sales_agent3.as_tool(tool_name=\"sales_agent3\", tool_description=description)\n",
    "\n",
    "tools = [tool1, tool2, tool3, send_email]\n",
    "\n",
    "tools"
   ]
  },
  {
   "cell_type": "markdown",
   "metadata": {},
   "source": [
    "## And now it's time for our Sales Manager - our planning agent"
   ]
  },
  {
   "cell_type": "code",
   "execution_count": 63,
   "metadata": {},
   "outputs": [],
   "source": [
    "# Improved instructions thanks to student Guillermo F.\n",
    "\n",
    "instructions = \"\"\"\n",
    "You are a Sales Manager at ComplAI. Your goal is to find the single best cold sales email using the sales_agent tools.\n",
    " \n",
    "Follow these steps carefully:\n",
    "1. Generate Drafts: Use all three sales_agent tools to generate three different email drafts. Do not proceed until all three drafts are ready.\n",
    " \n",
    "2. Evaluate and Select: Review the drafts and choose the single best email using your judgment of which one is most effective.\n",
    " \n",
    "3. Use the send_email tool to send the best email (and only the best email) to the user.\n",
    " \n",
    "Crucial Rules:\n",
    "- You must use the sales agent tools to generate the drafts — do not write them yourself.\n",
    "- You must send ONE email using the send_email tool — never more than one.\n",
    "\"\"\"\n",
    "\n",
    "\n",
    "sales_manager = Agent(name=\"Sales Manager\", instructions=instructions, tools=tools, model=\"gpt-4o-mini\")\n",
    "\n",
    "message = \"Send a cold sales email addressed to 'Dear CEO'\"\n",
    "\n",
    "with trace(\"Sales manager\"):\n",
    "    result = await Runner.run(sales_manager, message)"
   ]
  },
  {
   "cell_type": "markdown",
   "metadata": {},
   "source": [
    "<table style=\"margin: 0; text-align: left; width:100%\">\n",
    "    <tr>\n",
    "        <td style=\"width: 150px; height: 150px; vertical-align: middle;\">\n",
    "            <img src=\"../assets/stop.png\" width=\"150\" height=\"150\" style=\"display: block;\" />\n",
    "        </td>\n",
    "        <td>\n",
    "            <h2 style=\"color:#ff7800;\">Wait - you didn't get an email??</h2>\n",
    "            <span style=\"color:#ff7800;\">With much thanks to student Chris S. for describing his issue and fixes. \n",
    "            If you don't receive an email after running the prior cell, here are some things to check: <br/>\n",
    "            First, check your Spam folder! Several students have missed that the emails arrived in Spam!<br/>Second, print(result) and see if you are receiving errors about SSL. \n",
    "            If you're receiving SSL errors, then please check out theses <a href=\"https://chatgpt.com/share/680620ec-3b30-8012-8c26-ca86693d0e3d\">networking tips</a> and see the note in the next cell. Also look at the trace in OpenAI, and investigate on the SendGrid website, to hunt for clues. Let me know if I can help!\n",
    "            </span>\n",
    "        </td>\n",
    "    </tr>\n",
    "</table>"
   ]
  },
  {
   "cell_type": "markdown",
   "metadata": {},
   "source": [
    "### And one more suggestion to send emails from student Oleksandr on Windows 11:\n",
    "\n",
    "If you are getting certificate SSL errors, then:  \n",
    "Run this in a terminal: `uv pip install --upgrade certifi`\n",
    "\n",
    "Then run this code:\n",
    "```python\n",
    "import certifi\n",
    "import os\n",
    "os.environ['SSL_CERT_FILE'] = certifi.where()\n",
    "```\n",
    "\n",
    "Thank you Oleksandr!"
   ]
  },
  {
   "cell_type": "markdown",
   "metadata": {},
   "source": [
    "## Remember to check the trace\n",
    "\n",
    "https://platform.openai.com/traces\n",
    "\n",
    "And then check your email!!\n"
   ]
  },
  {
   "cell_type": "markdown",
   "metadata": {},
   "source": [
    "### Handoffs represent a way an agent can delegate to an agent, passing control to it\n",
    "\n",
    "Handoffs and Agents-as-tools are similar:\n",
    "\n",
    "In both cases, an Agent can collaborate with another Agent\n",
    "\n",
    "With tools, control passes back\n",
    "\n",
    "With handoffs, control passes across\n",
    "\n"
   ]
  },
  {
   "cell_type": "code",
   "execution_count": 64,
   "metadata": {},
   "outputs": [],
   "source": [
    "\n",
    "subject_instructions = \"You can write a subject for a cold sales email. \\\n",
    "You are given a message and you need to write a subject for an email that is likely to get a response.\"\n",
    "\n",
    "html_instructions = \"You can convert a text email body to an HTML email body. \\\n",
    "You are given a text email body which might have some markdown \\\n",
    "and you need to convert it to an HTML email body with simple, clear, compelling layout and design.\"\n",
    "\n",
    "subject_writer = Agent(name=\"Email subject writer\", instructions=subject_instructions, model=\"gpt-4o-mini\")\n",
    "subject_tool = subject_writer.as_tool(tool_name=\"subject_writer\", tool_description=\"Write a subject for a cold sales email\")\n",
    "\n",
    "html_converter = Agent(name=\"HTML email body converter\", instructions=html_instructions, model=\"gpt-4o-mini\")\n",
    "html_tool = html_converter.as_tool(tool_name=\"html_converter\",tool_description=\"Convert a text email body to an HTML email body\")\n"
   ]
  },
  {
   "cell_type": "code",
   "execution_count": 65,
   "metadata": {},
   "outputs": [],
   "source": [
    "@function_tool\n",
    "def send_html_email(subject: str, html_body: str) -> Dict[str, str]:\n",
    "    \"\"\" Send out an email with the given subject and HTML body to all sales prospects \"\"\"\n",
    "    sg = sendgrid.SendGridAPIClient(api_key=os.environ.get('SENDGRID_API_KEY'))\n",
    "    from_email = Email(SENDER_EMAIL)\n",
    "    to_email = To(RECIPIENT_EMAIL)\n",
    "    content = Content(\"text/html\", html_body)\n",
    "    mail = Mail(from_email, to_email, subject, content).get()\n",
    "    sg.client.mail.send.post(request_body=mail)\n",
    "    return {\"status\": \"success\"}"
   ]
  },
  {
   "cell_type": "code",
   "execution_count": 66,
   "metadata": {},
   "outputs": [],
   "source": [
    "tools = [subject_tool, html_tool, send_html_email]"
   ]
  },
  {
   "cell_type": "code",
   "execution_count": 67,
   "metadata": {},
   "outputs": [
    {
     "data": {
      "text/plain": [
       "[FunctionTool(name='subject_writer', description='Write a subject for a cold sales email', params_json_schema={'properties': {'input': {'title': 'Input', 'type': 'string'}}, 'required': ['input'], 'title': 'subject_writer_args', 'type': 'object', 'additionalProperties': False}, on_invoke_tool=<function function_tool.<locals>._create_function_tool.<locals>._on_invoke_tool at 0x1106d8a40>, strict_json_schema=True, is_enabled=True),\n",
       " FunctionTool(name='html_converter', description='Convert a text email body to an HTML email body', params_json_schema={'properties': {'input': {'title': 'Input', 'type': 'string'}}, 'required': ['input'], 'title': 'html_converter_args', 'type': 'object', 'additionalProperties': False}, on_invoke_tool=<function function_tool.<locals>._create_function_tool.<locals>._on_invoke_tool at 0x1106d99e0>, strict_json_schema=True, is_enabled=True),\n",
       " FunctionTool(name='send_html_email', description='Send out an email with the given subject and HTML body to all sales prospects', params_json_schema={'properties': {'subject': {'title': 'Subject', 'type': 'string'}, 'html_body': {'title': 'Html Body', 'type': 'string'}}, 'required': ['subject', 'html_body'], 'title': 'send_html_email_args', 'type': 'object', 'additionalProperties': False}, on_invoke_tool=<function function_tool.<locals>._create_function_tool.<locals>._on_invoke_tool at 0x10f23a980>, strict_json_schema=True, is_enabled=True)]"
      ]
     },
     "execution_count": 67,
     "metadata": {},
     "output_type": "execute_result"
    }
   ],
   "source": [
    "tools"
   ]
  },
  {
   "cell_type": "code",
   "execution_count": 68,
   "metadata": {},
   "outputs": [],
   "source": [
    "instructions =\"You are an email formatter and sender. You receive the body of an email to be sent. \\\n",
    "You first use the subject_writer tool to write a subject for the email, then use the html_converter tool to convert the body to HTML. \\\n",
    "Finally, you use the send_html_email tool to send the email with the subject and HTML body.\"\n",
    "\n",
    "\n",
    "emailer_agent = Agent(\n",
    "    name=\"Email Manager\",\n",
    "    instructions=instructions,\n",
    "    tools=tools,\n",
    "    model=\"gpt-4o-mini\",\n",
    "    handoff_description=\"Convert an email to HTML and send it\")\n"
   ]
  },
  {
   "cell_type": "markdown",
   "metadata": {},
   "source": [
    "### Now we have 3 tools and 1 handoff"
   ]
  },
  {
   "cell_type": "code",
   "execution_count": 69,
   "metadata": {},
   "outputs": [
    {
     "name": "stdout",
     "output_type": "stream",
     "text": [
      "[FunctionTool(name='sales_agent1', description='Write a cold sales email', params_json_schema={'properties': {'input': {'title': 'Input', 'type': 'string'}}, 'required': ['input'], 'title': 'sales_agent1_args', 'type': 'object', 'additionalProperties': False}, on_invoke_tool=<function function_tool.<locals>._create_function_tool.<locals>._on_invoke_tool at 0x1104adda0>, strict_json_schema=True, is_enabled=True), FunctionTool(name='sales_agent2', description='Write a cold sales email', params_json_schema={'properties': {'input': {'title': 'Input', 'type': 'string'}}, 'required': ['input'], 'title': 'sales_agent2_args', 'type': 'object', 'additionalProperties': False}, on_invoke_tool=<function function_tool.<locals>._create_function_tool.<locals>._on_invoke_tool at 0x10ff3a2a0>, strict_json_schema=True, is_enabled=True), FunctionTool(name='sales_agent3', description='Write a cold sales email', params_json_schema={'properties': {'input': {'title': 'Input', 'type': 'string'}}, 'required': ['input'], 'title': 'sales_agent3_args', 'type': 'object', 'additionalProperties': False}, on_invoke_tool=<function function_tool.<locals>._create_function_tool.<locals>._on_invoke_tool at 0x110667d80>, strict_json_schema=True, is_enabled=True)]\n",
      "[Agent(name='Email Manager', instructions='You are an email formatter and sender. You receive the body of an email to be sent. You first use the subject_writer tool to write a subject for the email, then use the html_converter tool to convert the body to HTML. Finally, you use the send_html_email tool to send the email with the subject and HTML body.', prompt=None, handoff_description='Convert an email to HTML and send it', handoffs=[], model='gpt-4o-mini', model_settings=ModelSettings(temperature=None, top_p=None, frequency_penalty=None, presence_penalty=None, tool_choice=None, parallel_tool_calls=None, truncation=None, max_tokens=None, reasoning=None, metadata=None, store=None, include_usage=None, extra_query=None, extra_body=None, extra_headers=None, extra_args=None), tools=[FunctionTool(name='subject_writer', description='Write a subject for a cold sales email', params_json_schema={'properties': {'input': {'title': 'Input', 'type': 'string'}}, 'required': ['input'], 'title': 'subject_writer_args', 'type': 'object', 'additionalProperties': False}, on_invoke_tool=<function function_tool.<locals>._create_function_tool.<locals>._on_invoke_tool at 0x1106d8a40>, strict_json_schema=True, is_enabled=True), FunctionTool(name='html_converter', description='Convert a text email body to an HTML email body', params_json_schema={'properties': {'input': {'title': 'Input', 'type': 'string'}}, 'required': ['input'], 'title': 'html_converter_args', 'type': 'object', 'additionalProperties': False}, on_invoke_tool=<function function_tool.<locals>._create_function_tool.<locals>._on_invoke_tool at 0x1106d99e0>, strict_json_schema=True, is_enabled=True), FunctionTool(name='send_html_email', description='Send out an email with the given subject and HTML body to all sales prospects', params_json_schema={'properties': {'subject': {'title': 'Subject', 'type': 'string'}, 'html_body': {'title': 'Html Body', 'type': 'string'}}, 'required': ['subject', 'html_body'], 'title': 'send_html_email_args', 'type': 'object', 'additionalProperties': False}, on_invoke_tool=<function function_tool.<locals>._create_function_tool.<locals>._on_invoke_tool at 0x10f23a980>, strict_json_schema=True, is_enabled=True)], mcp_servers=[], mcp_config={}, input_guardrails=[], output_guardrails=[], output_type=None, hooks=None, tool_use_behavior='run_llm_again', reset_tool_choice=True)]\n"
     ]
    }
   ],
   "source": [
    "tools = [tool1, tool2, tool3]\n",
    "handoffs = [emailer_agent]\n",
    "print(tools)\n",
    "print(handoffs)"
   ]
  },
  {
   "cell_type": "code",
   "execution_count": null,
   "metadata": {},
   "outputs": [],
   "source": [
    "# Improved instructions thanks to student Guillermo F.\n",
    "\n",
    "sales_manager_instructions = \"\"\"\n",
    "You are a Sales Manager at ComplAI. Your goal is to find the single best cold sales email using the sales_agent tools.\n",
    " \n",
    "Follow these steps carefully:\n",
    "1. Generate Drafts: Use all three sales_agent tools to generate three different email drafts. Do not proceed until all three drafts are ready.\n",
    " \n",
    "2. Evaluate and Select: Review the drafts and choose the single best email using your judgment of which one is most effective.\n",
    "You can use the tools multiple times if you're not satisfied with the results from the first try.\n",
    " \n",
    "3. Handoff for Sending: Pass ONLY the winning email draft to the 'Email Manager' agent. The Email Manager will take care of formatting and sending.\n",
    " \n",
    "Crucial Rules:\n",
    "- You must use the sales agent tools to generate the drafts — do not write them yourself.\n",
    "- You must hand off exactly ONE email to the Email Manager — never more than one.\n",
    "\"\"\"\n",
    "\n",
    "\n",
    "sales_manager = Agent(\n",
    "    name=\"Sales Manager\",\n",
    "    instructions=sales_manager_instructions,\n",
    "    tools=tools,\n",
    "    handoffs=handoffs,\n",
    "    model=\"gpt-4o-mini\")\n",
    "\n",
    "message = \"Send out a cold sales email addressed to Dear CEO from Alice\"\n",
    "\n",
    "# with trace(\"Automated SDR\"):\n",
    "#     result = await Runner.run(sales_manager, message)"
   ]
  },
  {
   "cell_type": "markdown",
   "metadata": {},
   "source": [
    "### Remember to check the trace\n",
    "\n",
    "https://platform.openai.com/traces\n",
    "\n",
    "And then check your email!!"
   ]
  },
  {
   "cell_type": "markdown",
   "metadata": {},
   "source": [
    "<table style=\"margin: 0; text-align: left; width:100%\">\n",
    "    <tr>\n",
    "        <td style=\"width: 150px; height: 150px; vertical-align: middle;\">\n",
    "            <img src=\"../assets/exercise.png\" width=\"150\" height=\"150\" style=\"display: block;\" />\n",
    "        </td>\n",
    "        <td>\n",
    "            <h2 style=\"color:#ff7800;\">Exercise</h2>\n",
    "            <span style=\"color:#ff7800;\">Can you identify the Agentic design patterns that were used here?<br/>\n",
    "            What is the 1 line that changed this from being an Agentic \"workflow\" to \"agent\" under Anthropic's definition?<br/>\n",
    "            Try adding in more tools and Agents! You could have tools that handle the mail merge to send to a list.<br/><br/>\n",
    "            HARD CHALLENGE: research how you can have SendGrid call a Callback webhook when a user replies to an email,\n",
    "            Then have the SDR respond to keep the conversation going! This may require some \"vibe coding\" 😂\n",
    "            </span>\n",
    "        </td>\n",
    "    </tr>\n",
    "</table>"
   ]
  },
  {
   "cell_type": "markdown",
   "metadata": {},
   "source": [
    "<table style=\"margin: 0; text-align: left; width:100%\">\n",
    "    <tr>\n",
    "        <td style=\"width: 150px; height: 150px; vertical-align: middle;\">\n",
    "            <img src=\"../assets/business.png\" width=\"150\" height=\"150\" style=\"display: block;\" />\n",
    "        </td>\n",
    "        <td>\n",
    "            <h2 style=\"color:#00bfff;\">Commercial implications</h2>\n",
    "            <span style=\"color:#00bfff;\">This is immediately applicable to Sales Automation; but more generally this could be applied to  end-to-end automation of any business process through conversations and tools. Think of ways you could apply an Agent solution\n",
    "            like this in your day job.\n",
    "            </span>\n",
    "        </td>\n",
    "    </tr>\n",
    "</table>"
   ]
  },
  {
   "cell_type": "markdown",
   "metadata": {},
   "source": [
    "## Extra note:\n",
    "\n",
    "Google has released their Agent Development Kit (ADK). It's not yet got the traction of the other frameworks on this course, but it's getting some attention. It's interesting to note that it looks quite similar to OpenAI Agents SDK. To give you a preview, here's a peak at sample code from ADK:\n",
    "\n",
    "```\n",
    "root_agent = Agent(\n",
    "    name=\"weather_time_agent\",\n",
    "    model=\"gemini-2.0-flash\",\n",
    "    description=\"Agent to answer questions about the time and weather in a city.\",\n",
    "    instruction=\"You are a helpful agent who can answer user questions about the time and weather in a city.\",\n",
    "    tools=[get_weather, get_current_time]\n",
    ")\n",
    "```\n",
    "\n",
    "Well, that looks familiar!\n",
    "\n",
    "And a student has contributed a customer care agent in community_contributions that uses ADK."
   ]
  },
  {
   "cell_type": "markdown",
   "metadata": {},
   "source": []
  },
  {
   "cell_type": "markdown",
   "metadata": {},
   "source": [
    "---\n",
    "\n",
    "# Part 4: Email Reply Capability 🎯\n",
    "\n",
    "## HARD CHALLENGE SOLUTION!\n",
    "\n",
    "This section implements automatic email reply handling using IMAP polling.\n",
    "\n",
    "### How it works:\n",
    "1. **Polls your inbox** every 60 seconds for new replies\n",
    "2. **Analyzes sentiment** (interested/objection/question/not interested)\n",
    "3. **Routes to specialized agents** based on reply type\n",
    "4. **Sends intelligent responses** automatically\n",
    "5. **Maintains conversation history** for context\n",
    "\n",
    "### Setup Required:\n",
    "See `EMAIL_REPLY_SETUP.md` for detailed instructions on getting your email app password."
   ]
  },
  {
   "cell_type": "code",
   "execution_count": null,
   "metadata": {},
   "outputs": [
    {
     "name": "stdout",
     "output_type": "stream",
     "text": [
      "📧 Email monitoring configured for: johnny.jarecsni@icloud.com\n",
      "🔐 Password set: ✅ Yes\n"
     ]
    }
   ],
   "source": [
    "# Additional imports for email reply functionality\n",
    "import imaplib\n",
    "import email\n",
    "from email.header import decode_header\n",
    "import time\n",
    "import json\n",
    "from datetime import datetime\n",
    "from pathlib import Path\n",
    "\n",
    "# Email polling configuration - add these to your .env file\n",
    "IMAP_SERVER = os.environ.get('IMAP_SERVER', 'imap.gmail.com')\n",
    "IMAP_EMAIL = os.environ.get('IMAP_EMAIL', RECIPIENT_EMAIL)\n",
    "IMAP_PASSWORD = os.environ.get('IMAP_PASSWORD')\n",
    "\n",
    "# Create conversations directory\n",
    "Path(\"conversations\").mkdir(exist_ok=True)\n",
    "\n",
    "print(f\"📧 Email monitoring configured for: {IMAP_EMAIL}\")\n",
    "print(f\"🔐 Password set: {'✅ Yes' if IMAP_PASSWORD else '❌ No - add IMAP_PASSWORD to .env'}\")"
   ]
  },
  {
   "cell_type": "code",
   "execution_count": null,
   "metadata": {},
   "outputs": [
    {
     "name": "stdout",
     "output_type": "stream",
     "text": [
      "✅ Conversation storage tools created\n"
     ]
    }
   ],
   "source": [
    "# Conversation storage - regular functions first, then tool wrappers\n",
    "def _store_conversation_impl(email_address: str, direction: str, subject: str, body: str) -> Dict[str, str]:\n",
    "    \"\"\" Internal implementation for storing conversation \"\"\"\n",
    "    conversation = {\n",
    "        \"timestamp\": datetime.now().isoformat(),\n",
    "        \"direction\": direction,\n",
    "        \"subject\": subject,\n",
    "        \"body\": body\n",
    "    }\n",
    "    \n",
    "    filename = f\"conversations/{email_address.replace('@', '_at_').replace('<', '').replace('>', '')}.json\"\n",
    "    \n",
    "    conversations = []\n",
    "    if Path(filename).exists():\n",
    "        with open(filename, 'r') as f:\n",
    "            conversations = json.load(f)\n",
    "    \n",
    "    conversations.append(conversation)\n",
    "    \n",
    "    with open(filename, 'w') as f:\n",
    "        json.dump(conversations, f, indent=2)\n",
    "    \n",
    "    return {\"status\": \"stored\", \"count\": len(conversations)}\n",
    "\n",
    "\n",
    "def _get_conversation_history_impl(email_address: str) -> str:\n",
    "    \"\"\" Internal implementation for getting conversation history \"\"\"\n",
    "    filename = f\"conversations/{email_address.replace('@', '_at_').replace('<', '').replace('>', '')}.json\"\n",
    "    \n",
    "    if not Path(filename).exists():\n",
    "        return \"No previous conversation history found.\"\n",
    "    \n",
    "    with open(filename, 'r') as f:\n",
    "        conversations = json.load(f)\n",
    "    \n",
    "    history = []\n",
    "    for conv in conversations:\n",
    "        direction = \"We sent\" if conv[\"direction\"] == \"outbound\" else \"They replied\"\n",
    "        history.append(f\"{direction} ({conv['timestamp']}):\\nSubject: {conv['subject']}\\n{conv['body'][:200]}...\\n\")\n",
    "    \n",
    "    return \"\\n---\\n\".join(history)\n",
    "\n",
    "\n",
    "# Now create the tool wrappers\n",
    "@function_tool\n",
    "def store_conversation(email_address: str, direction: str, subject: str, body: str) -> Dict[str, str]:\n",
    "    \"\"\" Store email in conversation history for context \"\"\"\n",
    "    return _store_conversation_impl(email_address, direction, subject, body)\n",
    "\n",
    "\n",
    "@function_tool\n",
    "def get_conversation_history(email_address: str) -> str:\n",
    "    \"\"\" Retrieve previous emails exchanged with this prospect \"\"\"\n",
    "    return _get_conversation_history_impl(email_address)\n",
    "\n",
    "print(\"✅ Conversation storage tools created\")"
   ]
  },
  {
   "cell_type": "code",
   "execution_count": null,
   "metadata": {},
   "outputs": [
    {
     "name": "stdout",
     "output_type": "stream",
     "text": [
      "✅ Email polling function created\n"
     ]
    }
   ],
   "source": [
    "def check_for_replies():\n",
    "    \"\"\"Poll email inbox for new replies using IMAP\"\"\"\n",
    "    if not IMAP_PASSWORD:\n",
    "        print(\"⚠️  IMAP_PASSWORD not set in .env file. Skipping email check.\")\n",
    "        return []\n",
    "    \n",
    "    try:\n",
    "        mail = imaplib.IMAP4_SSL(IMAP_SERVER)\n",
    "        mail.login(IMAP_EMAIL, IMAP_PASSWORD)\n",
    "        mail.select(\"inbox\")\n",
    "        \n",
    "        status, messages = mail.search(None, 'UNSEEN')\n",
    "        if status != 'OK' or not messages[0]:\n",
    "            return []\n",
    "        \n",
    "        replies = []\n",
    "        message_ids = messages[0].split() if messages[0] else []\n",
    "        \n",
    "        if message_ids:\n",
    "            print(f\"📬 Found {len(message_ids)} unread email(s)\")\n",
    "        \n",
    "        for num in message_ids:\n",
    "            try:\n",
    "                # Use BODY.PEEK[] to fetch without marking as read\n",
    "                status, msg_data = mail.fetch(num, '(BODY.PEEK[])')\n",
    "                \n",
    "                if status != 'OK':\n",
    "                    print(f\"⚠️  Failed to fetch message {num}\")\n",
    "                    continue\n",
    "                \n",
    "                # msg_data format: [(b'1 (BODY[] {size}', email_bytes), b')']\n",
    "                raw_email = None\n",
    "                \n",
    "                if isinstance(msg_data, list):\n",
    "                    for item in msg_data:\n",
    "                        if isinstance(item, tuple) and len(item) >= 2:\n",
    "                            # Second element of tuple is the email\n",
    "                            if isinstance(item[1], bytes) and len(item[1]) > 50:\n",
    "                                raw_email = item[1]\n",
    "                                break\n",
    "                \n",
    "                if not raw_email:\n",
    "                    print(f\"⚠️  Could not extract email from message {num}\")\n",
    "                    continue\n",
    "                \n",
    "                print(f\"✅ Fetched email: {len(raw_email)} bytes\")\n",
    "                    \n",
    "                msg = email.message_from_bytes(raw_email)\n",
    "                \n",
    "                from_email = msg.get(\"from\", \"\") or msg.get(\"From\", \"\")\n",
    "                subject = msg.get(\"subject\", \"\") or msg.get(\"Subject\", \"\")\n",
    "                \n",
    "                print(f\"📋 From: {from_email}\")\n",
    "                print(f\"📋 Subject: {subject}\")\n",
    "                \n",
    "                if not from_email:\n",
    "                    print(f\"⚠️  No from address, skipping\")\n",
    "                    continue\n",
    "                \n",
    "                # Decode subject\n",
    "                if subject:\n",
    "                    try:\n",
    "                        decoded = decode_header(subject)[0]\n",
    "                        if isinstance(decoded[0], bytes):\n",
    "                            subject = decoded[0].decode(decoded[1] or 'utf-8')\n",
    "                        else:\n",
    "                            subject = str(decoded[0])\n",
    "                    except:\n",
    "                        pass\n",
    "                \n",
    "                # Extract body\n",
    "                body = \"\"\n",
    "                if msg.is_multipart():\n",
    "                    for part in msg.walk():\n",
    "                        if part.get_content_type() == \"text/plain\":\n",
    "                            try:\n",
    "                                payload = part.get_payload(decode=True)\n",
    "                                if isinstance(payload, bytes):\n",
    "                                    body = payload.decode('utf-8', errors='ignore')\n",
    "                                elif isinstance(payload, str):\n",
    "                                    body = payload\n",
    "                                if body:\n",
    "                                    break\n",
    "                            except:\n",
    "                                continue\n",
    "                else:\n",
    "                    try:\n",
    "                        payload = msg.get_payload(decode=True)\n",
    "                        if isinstance(payload, bytes):\n",
    "                            body = payload.decode('utf-8', errors='ignore')\n",
    "                        elif isinstance(payload, str):\n",
    "                            body = payload\n",
    "                        else:\n",
    "                            body = str(msg.get_payload())\n",
    "                    except:\n",
    "                        body = str(msg.get_payload())\n",
    "                \n",
    "                print(f\"📝 Body: {body[:100]}...\")\n",
    "                print(f\"✅ Successfully parsed email\\n\")\n",
    "                \n",
    "                replies.append({\n",
    "                    \"from\": from_email,\n",
    "                    \"subject\": subject or \"(no subject)\",\n",
    "                    \"body\": body[:1000] if body else \"\"\n",
    "                })\n",
    "            except Exception as e:\n",
    "                print(f\"⚠️  Error processing message {num}: {e}\")\n",
    "                import traceback\n",
    "                traceback.print_exc()\n",
    "                continue\n",
    "        \n",
    "        mail.close()\n",
    "        mail.logout()\n",
    "        return replies\n",
    "        \n",
    "    except Exception as e:\n",
    "        print(f\"❌ Error checking emails: {e}\")\n",
    "        import traceback\n",
    "        traceback.print_exc()\n",
    "        return []\n",
    "\n",
    "print(\"✅ Email polling function created\")\n"
   ]
  },
  {
   "cell_type": "code",
   "execution_count": null,
   "metadata": {},
   "outputs": [
    {
     "name": "stdout",
     "output_type": "stream",
     "text": [
      "✅ Reply analyzer agent created\n"
     ]
    }
   ],
   "source": [
    "reply_analyzer = Agent(\n",
    "    name=\"Reply Analyzer\",\n",
    "    instructions=\"\"\"You analyze customer replies to sales emails.\n",
    "    \n",
    "    Determine the sentiment and intent from these categories:\n",
    "    - INTERESTED: Customer wants demo, call, more info, or shows positive interest\n",
    "    - NOT_INTERESTED: Polite decline, not a fit, already have solution\n",
    "    - OBJECTION: Has concerns about price, features, timing, or implementation\n",
    "    - QUESTION: Needs clarification about product, pricing, or process\n",
    "    - OUT_OF_OFFICE: Automated out-of-office reply\n",
    "    \n",
    "    Respond with ONLY the category name and a brief 1-sentence explanation.\n",
    "    Example: \"INTERESTED - Customer asked about scheduling a demo next week\"\n",
    "    \"\"\",\n",
    "    model=\"gpt-4o-mini\"\n",
    ")\n",
    "\n",
    "print(\"✅ Reply analyzer agent created\")"
   ]
  },
  {
   "cell_type": "code",
   "execution_count": null,
   "metadata": {},
   "outputs": [
    {
     "name": "stdout",
     "output_type": "stream",
     "text": [
      "✅ All reply writer agents created\n"
     ]
    }
   ],
   "source": [
    "interested_responder = Agent(\n",
    "    name=\"Interested Responder\",\n",
    "    instructions=\"\"\"You write enthusiastic follow-up emails for interested prospects.\n",
    "    - Express excitement about their interest\n",
    "    - Offer specific next steps (calendar link, demo, call)\n",
    "    - Keep the tone matching the original email style\n",
    "    - Include 2-3 bullet points about what they'll learn/gain\n",
    "    - End with clear call-to-action\n",
    "    Sign off as 'The ComplAI Team'\n",
    "    \"\"\",\n",
    "    model=\"gpt-4o-mini\"\n",
    ")\n",
    "\n",
    "objection_handler = Agent(\n",
    "    name=\"Objection Handler\",\n",
    "    instructions=\"\"\"You address customer concerns about ComplAI with empathy and solutions.\n",
    "    - Acknowledge their concern specifically\n",
    "    - Provide concrete solutions or alternatives\n",
    "    - Include relevant proof points\n",
    "    - Offer to discuss their specific situation\n",
    "    - Keep tone helpful, not pushy\n",
    "    Sign off as 'The ComplAI Team'\n",
    "    \"\"\",\n",
    "    model=\"gpt-4o-mini\"\n",
    ")\n",
    "\n",
    "question_answerer = Agent(\n",
    "    name=\"Question Answerer\",\n",
    "    instructions=\"\"\"You answer questions about ComplAI clearly and helpfully.\n",
    "    - Answer the specific question directly\n",
    "    - Provide relevant details without overwhelming\n",
    "    - Offer to schedule a call for complex questions\n",
    "    - Suggest related features they might find useful\n",
    "    Sign off as 'The ComplAI Team'\n",
    "    \"\"\",\n",
    "    model=\"gpt-4o-mini\"\n",
    ")\n",
    "\n",
    "not_interested_handler = Agent(\n",
    "    name=\"Not Interested Handler\",\n",
    "    instructions=\"\"\"You write graceful responses to prospects who aren't interested.\n",
    "    - Thank them for their time\n",
    "    - Keep it brief (2-3 sentences)\n",
    "    - Offer to stay in touch for future needs\n",
    "    - Leave door open professionally\n",
    "    Sign off as 'The ComplAI Team'\n",
    "    \"\"\",\n",
    "    model=\"gpt-4o-mini\"\n",
    ")\n",
    "\n",
    "print(\"✅ All reply writer agents created\")"
   ]
  },
  {
   "cell_type": "code",
   "execution_count": null,
   "metadata": {},
   "outputs": [
    {
     "name": "stdout",
     "output_type": "stream",
     "text": [
      "✅ Reply sending function created\n"
     ]
    }
   ],
   "source": [
    "def _send_reply_email_impl(to_email: str, subject: str, body: str) -> Dict[str, str]:\n",
    "    \"\"\" Internal implementation for sending reply email \"\"\"\n",
    "    print(f\"📤 SENDING EMAIL:\")\n",
    "    print(f\"  From: {SENDER_EMAIL}\")\n",
    "    print(f\"  To: {to_email}\")\n",
    "    print(f\"  Subject: {subject if subject.startswith('Re:') else 'Re: ' + subject}\")\n",
    "    print(f\"  Body: {body[:200]}...\")\n",
    "    \n",
    "    sg = sendgrid.SendGridAPIClient(api_key=os.environ.get('SENDGRID_API_KEY'))\n",
    "    from_email = Email(SENDER_EMAIL)\n",
    "    to = To(to_email)\n",
    "    \n",
    "    if not subject.startswith(\"Re:\"):\n",
    "        subject = f\"Re: {subject}\"\n",
    "    \n",
    "    content = Content(\"text/plain\", body)\n",
    "    mail = Mail(from_email, to, subject, content).get()\n",
    "    \n",
    "    try:\n",
    "        response = sg.client.mail.send.post(request_body=mail)\n",
    "        print(f\"✅ SendGrid response: {response.status_code}\")\n",
    "        _store_conversation_impl(to_email, \"outbound\", subject, body)\n",
    "        return {\"status\": \"sent\", \"code\": response.status_code}\n",
    "    except Exception as e:\n",
    "        print(f\"❌ SendGrid error: {e}\")\n",
    "        return {\"status\": \"error\", \"message\": str(e)}\n",
    "\n",
    "\n",
    "@function_tool\n",
    "def send_reply_email(to_email: str, subject: str, body: str) -> Dict[str, str]:\n",
    "    \"\"\" Send a reply email maintaining the conversation thread \"\"\"\n",
    "    return _send_reply_email_impl(to_email, subject, body)\n",
    "\n",
    "print(\"✅ Reply sending function created\")\n"
   ]
  },
  {
   "cell_type": "code",
   "execution_count": null,
   "metadata": {},
   "outputs": [
    {
     "name": "stdout",
     "output_type": "stream",
     "text": [
      "✅ Conversation manager agent created\n"
     ]
    }
   ],
   "source": [
    "conversation_manager = Agent(\n",
    "    name=\"Conversation Manager\",\n",
    "    instructions=\"\"\"You manage ongoing email conversations with prospects.\n",
    "    \n",
    "    Follow these steps:\n",
    "    1. Use get_conversation_history to understand the context\n",
    "    2. Analyze the reply to determine intent\n",
    "    3. Choose the appropriate responder agent based on intent\n",
    "    4. Generate a response that references their specific points\n",
    "    5. Send the reply using send_reply_email\n",
    "    \n",
    "    Be natural and helpful. Don't be pushy or robotic.\n",
    "    \"\"\",\n",
    "    tools=[\n",
    "        get_conversation_history,\n",
    "        reply_analyzer.as_tool(\"analyze_reply\", \"Analyze customer reply sentiment and intent\"),\n",
    "        interested_responder.as_tool(\"respond_interested\", \"Write response for interested prospect\"),\n",
    "        objection_handler.as_tool(\"handle_objection\", \"Address customer concerns\"),\n",
    "        question_answerer.as_tool(\"answer_question\", \"Answer customer questions\"),\n",
    "        not_interested_handler.as_tool(\"respond_not_interested\", \"Gracefully handle not interested\"),\n",
    "        send_reply_email\n",
    "    ],\n",
    "    model=\"gpt-4o-mini\"\n",
    ")\n",
    "\n",
    "print(\"✅ Conversation manager agent created\")"
   ]
  },
  {
   "cell_type": "code",
   "execution_count": null,
   "metadata": {},
   "outputs": [
    {
     "name": "stdout",
     "output_type": "stream",
     "text": [
      "✅ Reply processing function created\n"
     ]
    }
   ],
   "source": [
    "async def process_reply(from_email: str, subject: str, body: str):\n",
    "    \"\"\"Process an incoming email reply through the agent system\"\"\"\n",
    "    print(f\"\\n{'='*60}\")\n",
    "    print(f\"📧 Processing reply from: {from_email}\")\n",
    "    print(f\"📋 Subject: {subject}\")\n",
    "    print(f\"{'='*60}\\n\")\n",
    "    \n",
    "    _store_conversation_impl(from_email, \"inbound\", subject, body)\n",
    "    \n",
    "    context = f\"\"\"Customer Email: {from_email}\n",
    "Subject: {subject}\n",
    "\n",
    "Their Message:\n",
    "{body}\n",
    "\n",
    "Please analyze this reply and send an appropriate response.\"\"\"\n",
    "    \n",
    "    try:\n",
    "        with trace(f\"Reply to {from_email}\"):\n",
    "            result = await Runner.run(conversation_manager, context)\n",
    "        print(f\"\\n✅ Response sent successfully!\")\n",
    "        print(f\"Agent output: {result.final_output[:200]}...\")\n",
    "    except Exception as e:\n",
    "        print(f\"\\n❌ Error processing reply: {e}\")\n",
    "\n",
    "print(\"✅ Reply processing function created\")"
   ]
  },
  {
   "cell_type": "code",
   "execution_count": null,
   "metadata": {},
   "outputs": [
    {
     "name": "stdout",
     "output_type": "stream",
     "text": [
      "✅ Email monitoring loop created\n"
     ]
    }
   ],
   "source": [
    "async def monitor_emails(check_interval=60, max_iterations=None):\n",
    "    \"\"\"Monitor inbox for new replies and process them automatically\"\"\"\n",
    "    print(\"🚀 Starting email reply monitoring...\")\n",
    "    print(f\"📬 Checking {IMAP_EMAIL} every {check_interval} seconds\")\n",
    "    print(f\"⏹️  Press Ctrl+C to stop\\n\")\n",
    "    \n",
    "    iteration = 0\n",
    "    \n",
    "    try:\n",
    "        while True:\n",
    "            iteration += 1\n",
    "            if max_iterations and iteration > max_iterations:\n",
    "                print(f\"\\n🏁 Reached max iterations ({max_iterations})\")\n",
    "                break\n",
    "            \n",
    "            print(f\"\\n[{datetime.now().strftime('%H:%M:%S')}] Checking for new emails... (iteration {iteration})\")\n",
    "            replies = check_for_replies()\n",
    "            \n",
    "            if replies:\n",
    "                print(f\"\\n🎯 Processing {len(replies)} new reply(ies)...\")\n",
    "                for reply in replies:\n",
    "                    await process_reply(reply['from'], reply['subject'], reply['body'])\n",
    "                    await asyncio.sleep(2)\n",
    "            else:\n",
    "                print(\"   No new replies\")\n",
    "            \n",
    "            if max_iterations is None or iteration < max_iterations:\n",
    "                print(f\"   Sleeping for {check_interval} seconds...\")\n",
    "                await asyncio.sleep(check_interval)\n",
    "    except KeyboardInterrupt:\n",
    "        print(\"\\n\\n⏹️  Monitoring stopped by user\")\n",
    "    except Exception as e:\n",
    "        print(f\"\\n\\n❌ Error in monitoring loop: {e}\")\n",
    "\n",
    "print(\"✅ Email monitoring loop created\")"
   ]
  },
  {
   "cell_type": "markdown",
   "metadata": {},
   "source": [
    "## Test with Manual Reply\n",
    "\n",
    "Before starting the monitoring loop, test with a manual reply:"
   ]
  },
  {
   "cell_type": "code",
   "execution_count": null,
   "metadata": {},
   "outputs": [
    {
     "name": "stdout",
     "output_type": "stream",
     "text": [
      "📧 Test Scenario:\n",
      "  Simulating reply from: johnny.jarecsni@icloud.com\n",
      "  Subject: Re: Transform Your Business with ComplAI\n",
      "  Message: Hi, this sounds interesting! Can you tell me more about pricing and how long implementation typically takes?\n",
      "\n",
      "🤖 The agent will:\n",
      "  1. Analyze the sentiment (likely INTERESTED or QUESTION)\n",
      "  2. Generate an appropriate response\n",
      "  3. Send reply email to: johnny.jarecsni@icloud.com\n",
      "\n",
      "💡 You'll receive the reply at johnny.jarecsni@icloud.com!\n",
      "\n",
      "✅ Test ready - uncomment the line above to run\n"
     ]
    }
   ],
   "source": [
    "# Test with a manual reply - sends to YOUR email so you can see it!\n",
    "test_reply = {\n",
    "    \"from\": \"johnny.jarecsni@icloud.com\",\n",
    "    \"subject\": \"Re: Transform Your Business with ComplAI\",\n",
    "    \"body\": \"Hi, this sounds interesting! Can you tell me more about pricing and how long implementation typically takes?\"\n",
    "}\n",
    "\n",
    "print(\"📧 Test Scenario:\")\n",
    "print(f\"  Simulating reply from: {test_reply['from']}\")\n",
    "print(f\"  Subject: {test_reply['subject']}\")\n",
    "print(f\"  Message: {test_reply['body']}\")\n",
    "print(f\"\\n🤖 The agent will:\")\n",
    "print(\"  1. Analyze the sentiment (likely INTERESTED or QUESTION)\")\n",
    "print(\"  2. Generate an appropriate response\")\n",
    "print(f\"  3. Send reply email to: {test_reply['from']}\")\n",
    "print(f\"\\n💡 You'll receive the reply at {test_reply['from']}!\\n\")\n",
    "\n",
    "# Uncomment to test:\n",
    "# await process_reply(test_reply['from'], test_reply['subject'], test_reply['body'])\n",
    "\n",
    "print(\"✅ Test ready - uncomment the line above to run\")"
   ]
  },
  {
   "cell_type": "markdown",
   "metadata": {},
   "source": [
    "## Start Email Monitoring\n",
    "\n",
    "**For testing:** Use `max_iterations=5` to limit checks  \n",
    "**For production:** Remove `max_iterations` to run indefinitely"
   ]
  },
  {
   "cell_type": "code",
   "execution_count": null,
   "metadata": {},
   "outputs": [
    {
     "name": "stdout",
     "output_type": "stream",
     "text": [
      "🚀 Starting email reply monitoring...\n",
      "📬 Checking johnny.jarecsni@icloud.com every 30 seconds\n",
      "⏹️  Press Ctrl+C to stop\n",
      "\n",
      "\n",
      "[13:02:05] Checking for new emails... (iteration 1)\n",
      "📬 Found 1 unread email(s)\n",
      "🔍 Fetch response for message b'3':\n",
      "   Status: OK\n",
      "   msg_data type: <class 'list'>\n",
      "   msg_data length: 1\n",
      "   Item 0: type=<class 'bytes'>, len=4\n",
      "     Too small to be email: b'3 ()'\n",
      "⚠️  Could not find email data in message b'3'\n",
      "   No new replies\n",
      "   Sleeping for 30 seconds...\n",
      "\n",
      "[13:02:37] Checking for new emails... (iteration 2)\n",
      "   No new replies\n",
      "\n",
      "🏁 Reached max iterations (2)\n"
     ]
    }
   ],
   "source": [
    "# Start monitoring - this will check for emails every 30 seconds, 5 times\n",
    "await monitor_emails(check_interval=30, max_iterations=2)\n",
    "\n",
    "# For production, run indefinitely:\n",
    "# await monitor_emails(check_interval=60)"
   ]
  },
  {
   "cell_type": "markdown",
   "metadata": {},
   "source": [
    "## 🎉 Congratulations!\n",
    "\n",
    "You've successfully implemented the HARD CHALLENGE!\n",
    "\n",
    "### What you've built:\n",
    "- ✅ IMAP email polling (no server required!)\n",
    "- ✅ Multi-agent reply system\n",
    "- ✅ Sentiment analysis and routing\n",
    "- ✅ Conversation history tracking\n",
    "- ✅ Intelligent response generation\n",
    "\n",
    "### Next steps:\n",
    "1. Check `conversations/` folder for stored email history\n",
    "2. View agent decisions at https://platform.openai.com/traces\n",
    "3. Send yourself a test email to see it in action\n",
    "4. Customize agent instructions to match your style\n",
    "\n",
    "Happy automating! 🚀"
   ]
  }
 ],
 "metadata": {
  "kernelspec": {
   "display_name": ".venv",
   "language": "python",
   "name": "python3"
  },
  "language_info": {
   "codemirror_mode": {
    "name": "ipython",
    "version": 3
   },
   "file_extension": ".py",
   "mimetype": "text/x-python",
   "name": "python",
   "nbconvert_exporter": "python",
   "pygments_lexer": "ipython3",
   "version": "3.12.11"
  }
 },
 "nbformat": 4,
 "nbformat_minor": 2
}
